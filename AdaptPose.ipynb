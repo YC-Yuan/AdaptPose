{
  "cells": [
    {
      "cell_type": "markdown",
      "metadata": {
        "colab_type": "text",
        "id": "view-in-github"
      },
      "source": [
        "<a href=\"https://colab.research.google.com/github/mgholamikn/AdaptPose/blob/main/AdaptPose.ipynb\" target=\"_parent\"><img src=\"https://colab.research.google.com/assets/colab-badge.svg\" alt=\"Open In Colab\"/></a>"
      ]
    },
    {
      "cell_type": "markdown",
      "metadata": {
        "id": "Xtvy95RHLbrd"
      },
      "source": [
        "# **AdaptPose: Cross-dataset Adaptation of 3D Human Pose Estimation by Learnable Motion Generator**"
      ]
    },
    {
      "cell_type": "markdown",
      "metadata": {
        "id": "6hfK6GfCJ5r4"
      },
      "source": [
        "Here we provide the following experiments: \n",
        "\n",
        "1.   Cross-dataset evaluation on 3DHP: source H3.6M, target: 3DHP\n",
        "2.   Cross-dataset evaluation on 3DPW: source H3.6M, target: 3DPW\n",
        "3.   Cross-dataset trainin on 3DHP: source H3.6M, target: 3DHP\n",
        "4.   Cross-dataset trainin on 3DPW: source H3.6M, target: 3DPW\n"
      ]
    },
    {
      "attachments": {},
      "cell_type": "markdown",
      "metadata": {
        "id": "1SLaOn0PIfmT"
      },
      "source": [
        "# Install Dependencies\n",
        "\n",
        "请用python3.8环境，以确保能找到对应pytorch"
      ]
    },
    {
      "cell_type": "code",
      "execution_count": 10,
      "metadata": {
        "colab": {
          "base_uri": "https://localhost:8080/"
        },
        "id": "WePRpLEMZK-O",
        "outputId": "10a5d497-3fe3-4b21-db75-739552ef07d0"
      },
      "outputs": [
        {
          "name": "stdout",
          "output_type": "stream",
          "text": [
            "Looking in indexes: https://pypi.tuna.tsinghua.edu.cn/simple\n",
            "Requirement already satisfied: certifi==2020.12.5 in /home/data/yyc/.local/lib/python3.8/site-packages (2020.12.5)\n",
            "Note: you may need to restart the kernel to use updated packages.\n",
            "Looking in indexes: https://pypi.tuna.tsinghua.edu.cn/simple\n",
            "Requirement already satisfied: cffi==1.14.0 in /home/data/yyc/.local/lib/python3.8/site-packages (1.14.0)\n",
            "Requirement already satisfied: pycparser in /home/data/yyc/.local/lib/python3.8/site-packages (from cffi==1.14.0) (2.21)\n",
            "Note: you may need to restart the kernel to use updated packages.\n",
            "Looking in indexes: https://pypi.tuna.tsinghua.edu.cn/simple\n",
            "Requirement already satisfied: cycler==0.10.0 in /home/data/yyc/.local/lib/python3.8/site-packages (0.10.0)\n",
            "Requirement already satisfied: six in /home/data/yyc/.conda/envs/apenv/lib/python3.8/site-packages (from cycler==0.10.0) (1.16.0)\n",
            "Note: you may need to restart the kernel to use updated packages.\n",
            "Looking in indexes: https://pypi.tuna.tsinghua.edu.cn/simple\n",
            "Requirement already satisfied: kiwisolver==1.3.1 in /home/data/yyc/.local/lib/python3.8/site-packages (1.3.1)\n",
            "Note: you may need to restart the kernel to use updated packages.\n",
            "Looking in indexes: https://pypi.tuna.tsinghua.edu.cn/simple\n",
            "Requirement already satisfied: matplotlib==3.1.3 in /home/data/yyc/.local/lib/python3.8/site-packages (3.1.3)\n",
            "Requirement already satisfied: python-dateutil>=2.1 in /home/data/yyc/.conda/envs/apenv/lib/python3.8/site-packages (from matplotlib==3.1.3) (2.8.1)\n",
            "Requirement already satisfied: numpy>=1.11 in /home/data/yyc/.conda/envs/apenv/lib/python3.8/site-packages (from matplotlib==3.1.3) (1.22.4)\n",
            "Requirement already satisfied: kiwisolver>=1.0.1 in /home/data/yyc/.local/lib/python3.8/site-packages (from matplotlib==3.1.3) (1.3.1)\n",
            "Requirement already satisfied: pyparsing!=2.0.4,!=2.1.2,!=2.1.6,>=2.0.1 in /home/data/yyc/.conda/envs/apenv/lib/python3.8/site-packages (from matplotlib==3.1.3) (2.4.7)\n",
            "Requirement already satisfied: cycler>=0.10 in /home/data/yyc/.local/lib/python3.8/site-packages (from matplotlib==3.1.3) (0.10.0)\n",
            "Requirement already satisfied: six in /home/data/yyc/.conda/envs/apenv/lib/python3.8/site-packages (from cycler>=0.10->matplotlib==3.1.3) (1.16.0)\n",
            "Note: you may need to restart the kernel to use updated packages.\n",
            "Looking in indexes: https://pypi.tuna.tsinghua.edu.cn/simple\n",
            "Requirement already satisfied: mkl-fft==1.3.1 in /home/data/yyc/.conda/envs/apenv/lib/python3.8/site-packages (1.3.1)\n",
            "Requirement already satisfied: mkl in /home/data/yyc/.local/lib/python3.8/site-packages (from mkl-fft==1.3.1) (2023.0.0)\n",
            "Requirement already satisfied: dpcpp_cpp_rt in /home/data/yyc/.conda/envs/apenv/lib/python3.8/site-packages (from mkl-fft==1.3.1) (2023.0.0)\n",
            "Requirement already satisfied: numpy<1.23.0,>=1.22.3 in /home/data/yyc/.conda/envs/apenv/lib/python3.8/site-packages (from mkl-fft==1.3.1) (1.22.4)\n",
            "Requirement already satisfied: intel-cmplr-lic-rt==2023.0.0 in /home/data/yyc/.local/lib/python3.8/site-packages (from dpcpp_cpp_rt->mkl-fft==1.3.1) (2023.0.0)\n",
            "Requirement already satisfied: intel-cmplr-lib-rt==2023.0.0 in /home/data/yyc/.conda/envs/apenv/lib/python3.8/site-packages (from dpcpp_cpp_rt->mkl-fft==1.3.1) (2023.0.0)\n",
            "Requirement already satisfied: intel-openmp==2023.0.0 in /home/data/yyc/.local/lib/python3.8/site-packages (from dpcpp_cpp_rt->mkl-fft==1.3.1) (2023.0.0)\n",
            "Requirement already satisfied: intel-opencl-rt==2023.0.0 in /home/data/yyc/.conda/envs/apenv/lib/python3.8/site-packages (from dpcpp_cpp_rt->mkl-fft==1.3.1) (2023.0.0)\n",
            "Requirement already satisfied: tbb==2021.* in /home/data/yyc/.local/lib/python3.8/site-packages (from intel-opencl-rt==2023.0.0->dpcpp_cpp_rt->mkl-fft==1.3.1) (2021.8.0)\n",
            "Note: you may need to restart the kernel to use updated packages.\n",
            "Looking in indexes: https://pypi.tuna.tsinghua.edu.cn/simple\n",
            "\u001b[31mERROR: Could not find a version that satisfies the requirement mkl-random==1.1.1 (from versions: 1.2.2)\u001b[0m\u001b[31m\n",
            "\u001b[0m\u001b[31mERROR: No matching distribution found for mkl-random==1.1.1\u001b[0m\u001b[31m\n",
            "\u001b[0mNote: you may need to restart the kernel to use updated packages.\n",
            "Looking in indexes: https://pypi.tuna.tsinghua.edu.cn/simple\n",
            "\u001b[31mERROR: Could not find a version that satisfies the requirement mkl-service==2.3.0 (from versions: 2.4.0)\u001b[0m\u001b[31m\n",
            "\u001b[0m\u001b[31mERROR: No matching distribution found for mkl-service==2.3.0\u001b[0m\u001b[31m\n",
            "\u001b[0mNote: you may need to restart the kernel to use updated packages.\n",
            "Looking in indexes: https://pypi.tuna.tsinghua.edu.cn/simple\n",
            "Requirement already satisfied: nbconvert==5.6.1 in /home/data/yyc/.local/lib/python3.8/site-packages (5.6.1)\n",
            "Requirement already satisfied: pygments in /home/data/yyc/.local/lib/python3.8/site-packages (from nbconvert==5.6.1) (2.14.0)\n",
            "Requirement already satisfied: traitlets>=4.2 in /home/data/yyc/.local/lib/python3.8/site-packages (from nbconvert==5.6.1) (5.8.1)\n",
            "Requirement already satisfied: bleach in /home/data/yyc/.local/lib/python3.8/site-packages (from nbconvert==5.6.1) (5.0.1)\n",
            "Requirement already satisfied: testpath in /home/data/yyc/.local/lib/python3.8/site-packages (from nbconvert==5.6.1) (0.6.0)\n",
            "Requirement already satisfied: defusedxml in /home/data/yyc/.local/lib/python3.8/site-packages (from nbconvert==5.6.1) (0.7.1)\n",
            "Requirement already satisfied: mistune<2,>=0.8.1 in /home/data/yyc/.local/lib/python3.8/site-packages (from nbconvert==5.6.1) (0.8.4)\n",
            "Requirement already satisfied: jupyter-core in /home/data/yyc/.local/lib/python3.8/site-packages (from nbconvert==5.6.1) (5.1.3)\n",
            "Requirement already satisfied: entrypoints>=0.2.2 in /home/data/yyc/.conda/envs/apenv/lib/python3.8/site-packages (from nbconvert==5.6.1) (0.4)\n",
            "Requirement already satisfied: pandocfilters>=1.4.1 in /home/data/yyc/.local/lib/python3.8/site-packages (from nbconvert==5.6.1) (1.5.0)\n",
            "Requirement already satisfied: nbformat>=4.4 in /home/data/yyc/.local/lib/python3.8/site-packages (from nbconvert==5.6.1) (5.7.2)\n",
            "Requirement already satisfied: jinja2>=2.4 in /home/data/yyc/.local/lib/python3.8/site-packages (from nbconvert==5.6.1) (3.1.2)\n",
            "Requirement already satisfied: MarkupSafe>=2.0 in /home/data/yyc/.local/lib/python3.8/site-packages (from jinja2>=2.4->nbconvert==5.6.1) (2.1.1)\n",
            "Requirement already satisfied: fastjsonschema in /home/data/yyc/.local/lib/python3.8/site-packages (from nbformat>=4.4->nbconvert==5.6.1) (2.16.2)\n",
            "Requirement already satisfied: jsonschema>=2.6 in /home/data/yyc/.local/lib/python3.8/site-packages (from nbformat>=4.4->nbconvert==5.6.1) (4.17.3)\n",
            "Requirement already satisfied: webencodings in /home/data/yyc/.local/lib/python3.8/site-packages (from bleach->nbconvert==5.6.1) (0.5.1)\n",
            "Requirement already satisfied: six>=1.9.0 in /home/data/yyc/.conda/envs/apenv/lib/python3.8/site-packages (from bleach->nbconvert==5.6.1) (1.16.0)\n",
            "Requirement already satisfied: platformdirs>=2.5 in /home/data/yyc/.local/lib/python3.8/site-packages (from jupyter-core->nbconvert==5.6.1) (2.6.2)\n",
            "Requirement already satisfied: importlib-resources>=1.4.0 in /home/data/yyc/.local/lib/python3.8/site-packages (from jsonschema>=2.6->nbformat>=4.4->nbconvert==5.6.1) (5.10.2)\n",
            "Requirement already satisfied: attrs>=17.4.0 in /home/data/yyc/.local/lib/python3.8/site-packages (from jsonschema>=2.6->nbformat>=4.4->nbconvert==5.6.1) (22.2.0)\n",
            "Requirement already satisfied: pyrsistent!=0.17.0,!=0.17.1,!=0.17.2,>=0.14.0 in /home/data/yyc/.local/lib/python3.8/site-packages (from jsonschema>=2.6->nbformat>=4.4->nbconvert==5.6.1) (0.19.3)\n",
            "Requirement already satisfied: pkgutil-resolve-name>=1.3.10 in /home/data/yyc/.local/lib/python3.8/site-packages (from jsonschema>=2.6->nbformat>=4.4->nbconvert==5.6.1) (1.3.10)\n",
            "Requirement already satisfied: zipp>=3.1.0 in /home/data/yyc/.local/lib/python3.8/site-packages (from importlib-resources>=1.4.0->jsonschema>=2.6->nbformat>=4.4->nbconvert==5.6.1) (3.11.0)\n",
            "Note: you may need to restart the kernel to use updated packages.\n",
            "Looking in indexes: https://pypi.tuna.tsinghua.edu.cn/simple\n",
            "Requirement already satisfied: numpy in /home/data/yyc/.conda/envs/apenv/lib/python3.8/site-packages (1.22.4)\n",
            "Note: you may need to restart the kernel to use updated packages.\n",
            "Looking in indexes: https://pypi.tuna.tsinghua.edu.cn/simple\n",
            "Requirement already satisfied: olefile==0.46 in /home/data/yyc/.conda/envs/apenv/lib/python3.8/site-packages (0.46)\n",
            "Note: you may need to restart the kernel to use updated packages.\n",
            "Looking in indexes: https://pypi.tuna.tsinghua.edu.cn/simple\n",
            "Requirement already satisfied: Pillow in /home/data/yyc/.conda/envs/apenv/lib/python3.8/site-packages (9.4.0)\n",
            "Note: you may need to restart the kernel to use updated packages.\n",
            "Looking in indexes: https://pypi.tuna.tsinghua.edu.cn/simple\n",
            "Requirement already satisfied: protobuf==3.15.6 in /home/data/yyc/.conda/envs/apenv/lib/python3.8/site-packages (3.15.6)\n",
            "Requirement already satisfied: six>=1.9 in /home/data/yyc/.conda/envs/apenv/lib/python3.8/site-packages (from protobuf==3.15.6) (1.16.0)\n",
            "Note: you may need to restart the kernel to use updated packages.\n",
            "Looking in indexes: https://pypi.tuna.tsinghua.edu.cn/simple\n",
            "Requirement already satisfied: pycparser in /home/data/yyc/.local/lib/python3.8/site-packages (2.21)\n",
            "Note: you may need to restart the kernel to use updated packages.\n",
            "Looking in indexes: https://pypi.tuna.tsinghua.edu.cn/simple\n",
            "Requirement already satisfied: pyparsing==2.4.7 in /home/data/yyc/.conda/envs/apenv/lib/python3.8/site-packages (2.4.7)\n",
            "Note: you may need to restart the kernel to use updated packages.\n",
            "Looking in indexes: https://pypi.tuna.tsinghua.edu.cn/simple\n",
            "Requirement already satisfied: python-dateutil==2.8.1 in /home/data/yyc/.conda/envs/apenv/lib/python3.8/site-packages (2.8.1)\n",
            "Requirement already satisfied: six>=1.5 in /home/data/yyc/.conda/envs/apenv/lib/python3.8/site-packages (from python-dateutil==2.8.1) (1.16.0)\n",
            "Note: you may need to restart the kernel to use updated packages.\n",
            "Looking in indexes: https://pypi.tuna.tsinghua.edu.cn/simple\n",
            "Requirement already satisfied: scipy==1.4.1 in /home/data/yyc/.conda/envs/apenv/lib/python3.8/site-packages (1.4.1)\n",
            "Requirement already satisfied: numpy>=1.13.3 in /home/data/yyc/.conda/envs/apenv/lib/python3.8/site-packages (from scipy==1.4.1) (1.22.4)\n",
            "Note: you may need to restart the kernel to use updated packages.\n",
            "Looking in indexes: https://pypi.tuna.tsinghua.edu.cn/simple\n",
            "Requirement already satisfied: six in /home/data/yyc/.conda/envs/apenv/lib/python3.8/site-packages (1.16.0)\n",
            "Note: you may need to restart the kernel to use updated packages.\n",
            "Looking in indexes: https://pypi.tuna.tsinghua.edu.cn/simple\n",
            "Requirement already satisfied: tensorboardX==1.6 in /home/data/yyc/.conda/envs/apenv/lib/python3.8/site-packages (1.6)\n",
            "Requirement already satisfied: protobuf>=3.2.0 in /home/data/yyc/.conda/envs/apenv/lib/python3.8/site-packages (from tensorboardX==1.6) (3.15.6)\n",
            "Requirement already satisfied: numpy in /home/data/yyc/.conda/envs/apenv/lib/python3.8/site-packages (from tensorboardX==1.6) (1.22.4)\n",
            "Requirement already satisfied: six in /home/data/yyc/.conda/envs/apenv/lib/python3.8/site-packages (from tensorboardX==1.6) (1.16.0)\n",
            "Note: you may need to restart the kernel to use updated packages.\n",
            "Looking in indexes: https://pypi.tuna.tsinghua.edu.cn/simple\n",
            "Requirement already satisfied: torch in /home/data/yyc/.conda/envs/apenv/lib/python3.8/site-packages (1.13.1)\n",
            "Requirement already satisfied: nvidia-cublas-cu11==11.10.3.66 in /home/data/yyc/.conda/envs/apenv/lib/python3.8/site-packages (from torch) (11.10.3.66)\n",
            "Requirement already satisfied: typing-extensions in /home/data/yyc/.conda/envs/apenv/lib/python3.8/site-packages (from torch) (4.4.0)\n",
            "Requirement already satisfied: nvidia-cudnn-cu11==8.5.0.96 in /home/data/yyc/.conda/envs/apenv/lib/python3.8/site-packages (from torch) (8.5.0.96)\n",
            "Requirement already satisfied: nvidia-cuda-nvrtc-cu11==11.7.99 in /home/data/yyc/.conda/envs/apenv/lib/python3.8/site-packages (from torch) (11.7.99)\n",
            "Requirement already satisfied: nvidia-cuda-runtime-cu11==11.7.99 in /home/data/yyc/.conda/envs/apenv/lib/python3.8/site-packages (from torch) (11.7.99)\n",
            "Requirement already satisfied: wheel in /home/data/yyc/.conda/envs/apenv/lib/python3.8/site-packages (from nvidia-cublas-cu11==11.10.3.66->torch) (0.37.1)\n",
            "Requirement already satisfied: setuptools in /home/data/yyc/.conda/envs/apenv/lib/python3.8/site-packages (from nvidia-cublas-cu11==11.10.3.66->torch) (65.6.3)\n",
            "Note: you may need to restart the kernel to use updated packages.\n",
            "Looking in indexes: https://pypi.tuna.tsinghua.edu.cn/simple\n",
            "Requirement already satisfied: torchgeometry==0.1.2 in /home/data/yyc/.conda/envs/apenv/lib/python3.8/site-packages (0.1.2)\n",
            "Requirement already satisfied: torch>=1.0.0 in /home/data/yyc/.conda/envs/apenv/lib/python3.8/site-packages (from torchgeometry==0.1.2) (1.13.1)\n",
            "Requirement already satisfied: typing-extensions in /home/data/yyc/.conda/envs/apenv/lib/python3.8/site-packages (from torch>=1.0.0->torchgeometry==0.1.2) (4.4.0)\n",
            "Requirement already satisfied: nvidia-cuda-runtime-cu11==11.7.99 in /home/data/yyc/.conda/envs/apenv/lib/python3.8/site-packages (from torch>=1.0.0->torchgeometry==0.1.2) (11.7.99)\n",
            "Requirement already satisfied: nvidia-cudnn-cu11==8.5.0.96 in /home/data/yyc/.conda/envs/apenv/lib/python3.8/site-packages (from torch>=1.0.0->torchgeometry==0.1.2) (8.5.0.96)\n",
            "Requirement already satisfied: nvidia-cuda-nvrtc-cu11==11.7.99 in /home/data/yyc/.conda/envs/apenv/lib/python3.8/site-packages (from torch>=1.0.0->torchgeometry==0.1.2) (11.7.99)\n",
            "Requirement already satisfied: nvidia-cublas-cu11==11.10.3.66 in /home/data/yyc/.conda/envs/apenv/lib/python3.8/site-packages (from torch>=1.0.0->torchgeometry==0.1.2) (11.10.3.66)\n",
            "Requirement already satisfied: setuptools in /home/data/yyc/.conda/envs/apenv/lib/python3.8/site-packages (from nvidia-cublas-cu11==11.10.3.66->torch>=1.0.0->torchgeometry==0.1.2) (65.6.3)\n",
            "Requirement already satisfied: wheel in /home/data/yyc/.conda/envs/apenv/lib/python3.8/site-packages (from nvidia-cublas-cu11==11.10.3.66->torch>=1.0.0->torchgeometry==0.1.2) (0.37.1)\n",
            "Note: you may need to restart the kernel to use updated packages.\n",
            "Looking in indexes: https://pypi.tuna.tsinghua.edu.cn/simple\n",
            "\u001b[31mERROR: Could not find a version that satisfies the requirement torchvision==0.4 (from versions: 0.1.6, 0.1.7, 0.1.8, 0.1.9, 0.2.0, 0.2.1, 0.2.2, 0.2.2.post2, 0.2.2.post3, 0.5.0, 0.6.0, 0.6.1, 0.7.0, 0.8.0, 0.8.1, 0.8.2, 0.9.0, 0.9.1, 0.10.0, 0.10.1, 0.11.0, 0.11.1, 0.11.2, 0.11.3, 0.12.0, 0.13.0, 0.13.1, 0.14.0, 0.14.1)\u001b[0m\u001b[31m\n",
            "\u001b[0m\u001b[31mERROR: No matching distribution found for torchvision==0.4\u001b[0m\u001b[31m\n",
            "\u001b[0mNote: you may need to restart the kernel to use updated packages.\n"
          ]
        }
      ],
      "source": [
        "%pip install certifi==2020.12.5\n",
        "%pip install cffi==1.14.0\n",
        "%pip install cycler==0.10.0\n",
        "%pip install kiwisolver==1.3.1\n",
        "%pip install matplotlib==3.1.3\n",
        "%pip install mkl-fft==1.3.1\n",
        "%pip install mkl-random==1.1.1\n",
        "%pip install mkl-service==2.3.0\n",
        "%pip install nbconvert==5.6.1\n",
        "%pip install numpy \n",
        "%pip install olefile==0.46\n",
        "%pip install Pillow \n",
        "%pip install protobuf==3.15.6\n",
        "%pip install pycparser \n",
        "%pip install pyparsing==2.4.7\n",
        "%pip install python-dateutil==2.8.1\n",
        "%pip install scipy==1.4.1\n",
        "%pip install six \n",
        "%pip install tensorboardX==1.6\n",
        "%pip install torch\n",
        "%pip install torchgeometry==0.1.2\n",
        "# %pip install torchvision==0.2.2\n",
        "%pip install torchvision==0.4"
      ]
    },
    {
      "cell_type": "code",
      "execution_count": 7,
      "metadata": {
        "colab": {
          "base_uri": "https://localhost:8080/",
          "height": 1000
        },
        "id": "SGJ-DPf5SrJG",
        "outputId": "fa53dc6f-34b6-4e02-ab5a-fb462a2ddae5"
      },
      "outputs": [
        {
          "name": "stdout",
          "output_type": "stream",
          "text": [
            "Looking in indexes: https://pypi.tuna.tsinghua.edu.cn/simple\n",
            "Looking in links: https://dl.fbaipublicfiles.com/pytorch3d/packaging/wheels/py39_cu117_pyt11./download.html\n",
            "Collecting pytorch3d\n",
            "  Using cached https://pypi.tuna.tsinghua.edu.cn/packages/86/23/eacf41ec0ed5791c891c2c84b5aef0aeac7444a947d53857c2e3baf062a7/pytorch3d-0.3.0-cp38-cp38-manylinux1_x86_64.whl (30.0 MB)\n",
            "Collecting fvcore\n",
            "  Using cached fvcore-0.1.5.post20221221-py3-none-any.whl\n",
            "Collecting torchvision>=0.4\n",
            "  Using cached https://pypi.tuna.tsinghua.edu.cn/packages/7c/d8/353b695fc47b9e2210313874fedd76b7ea5e699f2b2dd674919a95c4a0f1/torchvision-0.14.1-cp38-cp38-manylinux1_x86_64.whl (24.2 MB)\n",
            "Requirement already satisfied: numpy in /home/data/yyc/.local/lib/python3.8/site-packages (from torchvision>=0.4->pytorch3d) (1.24.1)\n",
            "Collecting requests\n",
            "  Using cached https://pypi.tuna.tsinghua.edu.cn/packages/ca/91/6d9b8ccacd0412c08820f72cebaa4f0c0441b5cda699c90f618b6f8a1b42/requests-2.28.1-py3-none-any.whl (62 kB)\n",
            "Collecting torch==1.13.1\n",
            "  Using cached https://pypi.tuna.tsinghua.edu.cn/packages/6b/0e/c640bda79e61766896fe16dfe0a3ab12b06ad50cf8814950518896dec0a5/torch-1.13.1-cp38-cp38-manylinux1_x86_64.whl (887.4 MB)\n",
            "Collecting pillow!=8.3.*,>=5.3.0\n",
            "  Using cached https://pypi.tuna.tsinghua.edu.cn/packages/77/ba/2f29a6b7224b3e81ddb4d755c66d311d7f3e7c97e40a7f6ccb628b118633/Pillow-9.4.0-cp38-cp38-manylinux_2_28_x86_64.whl (3.4 MB)\n",
            "Collecting typing-extensions\n",
            "  Using cached https://pypi.tuna.tsinghua.edu.cn/packages/0b/8e/f1a0a5a76cfef77e1eb6004cb49e5f8d72634da638420b9ea492ce8305e8/typing_extensions-4.4.0-py3-none-any.whl (26 kB)\n",
            "Collecting nvidia-cublas-cu11==11.10.3.66\n",
            "  Using cached https://pypi.tuna.tsinghua.edu.cn/packages/ce/41/fdeb62b5437996e841d83d7d2714ca75b886547ee8017ee2fe6ea409d983/nvidia_cublas_cu11-11.10.3.66-py3-none-manylinux1_x86_64.whl (317.1 MB)\n",
            "Collecting nvidia-cudnn-cu11==8.5.0.96\n",
            "  Using cached https://pypi.tuna.tsinghua.edu.cn/packages/dc/30/66d4347d6e864334da5bb1c7571305e501dcb11b9155971421bb7bb5315f/nvidia_cudnn_cu11-8.5.0.96-2-py3-none-manylinux1_x86_64.whl (557.1 MB)\n",
            "Collecting nvidia-cuda-nvrtc-cu11==11.7.99\n",
            "  Using cached https://pypi.tuna.tsinghua.edu.cn/packages/ef/25/922c5996aada6611b79b53985af7999fc629aee1d5d001b6a22431e18fec/nvidia_cuda_nvrtc_cu11-11.7.99-2-py3-none-manylinux1_x86_64.whl (21.0 MB)\n",
            "Collecting nvidia-cuda-runtime-cu11==11.7.99\n",
            "  Using cached https://pypi.tuna.tsinghua.edu.cn/packages/36/92/89cf558b514125d2ebd8344dd2f0533404b416486ff681d5434a5832a019/nvidia_cuda_runtime_cu11-11.7.99-py3-none-manylinux1_x86_64.whl (849 kB)\n",
            "Requirement already satisfied: setuptools in /home/data/yyc/.conda/envs/apenv/lib/python3.8/site-packages (from nvidia-cublas-cu11==11.10.3.66->torch==1.13.1->torchvision>=0.4->pytorch3d) (65.6.3)\n",
            "Requirement already satisfied: wheel in /home/data/yyc/.conda/envs/apenv/lib/python3.8/site-packages (from nvidia-cublas-cu11==11.10.3.66->torch==1.13.1->torchvision>=0.4->pytorch3d) (0.37.1)\n",
            "Collecting termcolor>=1.1\n",
            "  Using cached https://pypi.tuna.tsinghua.edu.cn/packages/aa/f4/8ddd8a684b4c005345f45740a449d93d0af7ccecd91319d0f4426cf08b36/termcolor-2.2.0-py3-none-any.whl (6.6 kB)\n",
            "Collecting tabulate\n",
            "  Using cached https://pypi.tuna.tsinghua.edu.cn/packages/40/44/4a5f08c96eb108af5cb50b41f76142f0afa346dfa99d5296fe7202a11854/tabulate-0.9.0-py3-none-any.whl (35 kB)\n",
            "Collecting iopath>=0.1.7\n",
            "  Using cached iopath-0.1.10-py3-none-any.whl\n",
            "Collecting tqdm\n",
            "  Downloading https://pypi.tuna.tsinghua.edu.cn/packages/47/bb/849011636c4da2e44f1253cd927cfb20ada4374d8b3a4e425416e84900cc/tqdm-4.64.1-py2.py3-none-any.whl (78 kB)\n",
            "\u001b[2K     \u001b[90m━━━━━━━━━━━━━━━━━━━━━━━━━━━━━━━━━━━━━━━\u001b[0m \u001b[32m78.5/78.5 kB\u001b[0m \u001b[31m281.3 kB/s\u001b[0m eta \u001b[36m0:00:00\u001b[0m \u001b[36m0:00:01\u001b[0m\n",
            "\u001b[?25hCollecting yacs>=0.1.6\n",
            "  Using cached https://pypi.tuna.tsinghua.edu.cn/packages/38/4f/fe9a4d472aa867878ce3bb7efb16654c5d63672b86dc0e6e953a67018433/yacs-0.1.8-py3-none-any.whl (14 kB)\n",
            "Collecting pyyaml>=5.1\n",
            "  Using cached https://pypi.tuna.tsinghua.edu.cn/packages/d7/42/7ad4b6d67a16229496d4f6e74201bdbebcf4bc1e87d5a70c9297d4961bd2/PyYAML-6.0-cp38-cp38-manylinux_2_5_x86_64.manylinux1_x86_64.manylinux_2_12_x86_64.manylinux2010_x86_64.whl (701 kB)\n",
            "Collecting portalocker\n",
            "  Using cached https://pypi.tuna.tsinghua.edu.cn/packages/2a/59/dab72d0b8859a410a83dcaffb84781ffc467651b79c827a435c8945add05/portalocker-2.6.0-py2.py3-none-any.whl (15 kB)\n",
            "Requirement already satisfied: certifi>=2017.4.17 in /home/data/yyc/.local/lib/python3.8/site-packages (from requests->torchvision>=0.4->pytorch3d) (2020.12.5)\n",
            "Collecting idna<4,>=2.5\n",
            "  Using cached https://pypi.tuna.tsinghua.edu.cn/packages/fc/34/3030de6f1370931b9dbb4dad48f6ab1015ab1d32447850b9fc94e60097be/idna-3.4-py3-none-any.whl (61 kB)\n",
            "Collecting charset-normalizer<3,>=2\n",
            "  Using cached https://pypi.tuna.tsinghua.edu.cn/packages/db/51/a507c856293ab05cdc1db77ff4bc1268ddd39f29e7dc4919aa497f0adbec/charset_normalizer-2.1.1-py3-none-any.whl (39 kB)\n",
            "Collecting urllib3<1.27,>=1.21.1\n",
            "  Using cached https://pypi.tuna.tsinghua.edu.cn/packages/fe/ca/466766e20b767ddb9b951202542310cba37ea5f2d792dae7589f1741af58/urllib3-1.26.14-py2.py3-none-any.whl (140 kB)\n",
            "Installing collected packages: urllib3, typing-extensions, tqdm, termcolor, tabulate, pyyaml, portalocker, pillow, nvidia-cuda-runtime-cu11, nvidia-cuda-nvrtc-cu11, nvidia-cublas-cu11, idna, charset-normalizer, yacs, requests, nvidia-cudnn-cu11, iopath, torch, fvcore, torchvision, pytorch3d\n",
            "Successfully installed charset-normalizer-2.1.1 fvcore-0.1.5.post20221221 idna-3.4 iopath-0.1.10 nvidia-cublas-cu11-11.10.3.66 nvidia-cuda-nvrtc-cu11-11.7.99 nvidia-cuda-runtime-cu11-11.7.99 nvidia-cudnn-cu11-8.5.0.96 pillow-9.4.0 portalocker-2.6.0 pytorch3d-0.3.0 pyyaml-6.0 requests-2.28.1 tabulate-0.9.0 termcolor-2.2.0 torch-1.13.1 torchvision-0.14.1 tqdm-4.64.1 typing-extensions-4.4.0 urllib3-1.26.14 yacs-0.1.8\n",
            "Note: you may need to restart the kernel to use updated packages.\n"
          ]
        }
      ],
      "source": [
        "import sys\n",
        "import torch\n",
        "version_str=\"\".join([\n",
        "    f\"py3{sys.version_info.minor}_cu\",\n",
        "    torch.version.cuda.replace(\".\",\"\"),\n",
        "    f\"_pyt{torch.__version__[0:5:2]}\"\n",
        "])\n",
        "%pip install pytorch3d -f https://dl.fbaipublicfiles.com/pytorch3d/packaging/wheels/{version_str}/download.html"
      ]
    },
    {
      "attachments": {},
      "cell_type": "markdown",
      "metadata": {
        "id": "-hFL4HUhV2tI"
      },
      "source": [
        "# 下载数据\n",
        "\n",
        "实验室服务器连不到google，需要手动下载后上传"
      ]
    },
    {
      "cell_type": "code",
      "execution_count": null,
      "metadata": {
        "id": "_1SEly7kV27E"
      },
      "outputs": [],
      "source": [
        "# #%cd /TO/AdaptPose/ \n",
        "# !ls\n",
        "# %cd data\n",
        "# ## download data\n",
        "# !gdown --id 1_cJ2vG5wxRQUtWavz47XAwaMvU9pQB_X\n",
        "# !gdown --id 1NX9dT1nKX-8t_eZR3vnfrdyOegG7pDBs\n",
        "# !gdown --id 1v3-LDnjlHT8OJi40E7OKDBGY7dWM9P2n\n",
        "# !gdown --id 12voJG5DBFy_2xT3lNdLYA4ZCTYjs7Iyv\n",
        "# !gdown --id 1Y96GlQOEkc2Gx6V4FpvTwCyJjrUX3FYu\n",
        "# !gdown --id 1vL53iJ1mWao3TKK3p52ZX_jdF5d5EBtl\n",
        "# !gdown --id 1EbVV-nzrrQ2KdT_GG4JPwv1A7EOnFka1\n",
        "# ## download pretrained models\n",
        "# %cd ..\n",
        "# %cd checkpoint/adaptpose/videopose/gt/3dhp/\n",
        "# !gdown --id 11QJf-B5D1_aqsMR3v-9rrfht4W7ErC4k\n",
        "# %cd ../../../../..\n",
        "# %cd checkpoint/adaptpose/videopose/gt/3dpw/\n",
        "# !gdown --id 1LUi1OQ7vWQ5KXJ9HlSvtveiOEacG1WoS\n",
        "# %cd ../../../../..\n",
        "# %cd checkpoint/adaptpose/videopose/gt/skii/\n",
        "# !gdown --id 1b1_A7SuBdGaPNXzsx2qLOg0_RqIuk6Cx\n",
        "# %cd ../../../../..\n",
        "# %cd checkpoint/pretrain_baseline/videopose/gt/3dhp/\n",
        "# !gdown --id 1SmSXrk_LcpsXBpBEsSp0zq9qIpb4aJBU\n",
        "# %cd ../../../../.."
      ]
    },
    {
      "cell_type": "markdown",
      "metadata": {
        "id": "M_gEjI73LAES"
      },
      "source": [
        "# **Experiments:**"
      ]
    },
    {
      "cell_type": "markdown",
      "metadata": {
        "id": "TIoGNrmTbr5G"
      },
      "source": [
        "**1. Cross-dataset Evaluation of Pretrained Model on 3DHP dataset**\n",
        "\n",
        "\n"
      ]
    },
    {
      "cell_type": "code",
      "execution_count": 8,
      "metadata": {
        "colab": {
          "base_uri": "https://localhost:8080/"
        },
        "id": "rWHxp3hWcMfH",
        "outputId": "a0a14ce3-9cfc-4512-9065-35aec3f42efe"
      },
      "outputs": [
        {
          "name": "stdout",
          "output_type": "stream",
          "text": [
            "Traceback (most recent call last):\n",
            "  File \"run_evaluate.py\", line 12, in <module>\n",
            "    from function_adaptpose.data_preparation import data_preparation\n",
            "  File \"/home/data/yyc/ap/function_adaptpose/data_preparation.py\", line 7, in <module>\n",
            "    from common.viz import *\n",
            "  File \"/home/data/yyc/ap/common/viz.py\", line 4, in <module>\n",
            "    import matplotlib.pyplot as plt\n",
            "  File \"/home/data/yyc/.local/lib/python3.8/site-packages/matplotlib/__init__.py\", line 138, in <module>\n",
            "    from . import cbook, rcsetup\n",
            "  File \"/home/data/yyc/.local/lib/python3.8/site-packages/matplotlib/rcsetup.py\", line 28, in <module>\n",
            "    from cycler import Cycler, cycler as ccycler\n",
            "  File \"/home/data/yyc/.local/lib/python3.8/site-packages/cycler.py\", line 46, in <module>\n",
            "    import six\n",
            "ModuleNotFoundError: No module named 'six'\n"
          ]
        }
      ],
      "source": [
        "!python3  run_evaluate.py --posenet_name 'videopose' --keypoints gt --evaluate  'checkpoint/adaptpose/videopose/gt/3dhp/ckpt_best_dhp_p1.pth.tar' --dataset_target 3dhp --keypoints_target 'gt' --pad 13  --pretrain_path  'checkpoint/pretrain_baseline/videopose/gt/3dhp/ckpt_best.pth.tar'"
      ]
    },
    {
      "cell_type": "markdown",
      "metadata": {
        "id": "pD7B0vxNcUd9"
      },
      "source": [
        "**2. Cross-dataset Evaluation of Pretrained Model on 3DPW dataset**"
      ]
    },
    {
      "cell_type": "code",
      "execution_count": null,
      "metadata": {
        "colab": {
          "base_uri": "https://localhost:8080/"
        },
        "id": "RfxWubT6cY5Y",
        "outputId": "2ae3f1a6-4b3d-4b6e-9225-c1c91120dd3e"
      },
      "outputs": [],
      "source": [
        "!python3  run_evaluate.py --posenet_name 'videopose' --keypoints gt --evaluate  'checkpoint/adaptpose/videopose/gt/3dpw/ckpt_best_dhp_p1.pth.tar' --dataset_target 3dpw --keypoints_target 'gt' --pad 13  --pretrain_path  'checkpoint/pretrain_baseline/videopose/gt/3dpw/ckpt_best.pth.tar'"
      ]
    },
    {
      "cell_type": "markdown",
      "metadata": {
        "id": "gE8hENgkWhvt"
      },
      "source": [
        "**3. Cross-dataset Training for 3DHP**"
      ]
    },
    {
      "cell_type": "code",
      "execution_count": null,
      "metadata": {
        "id": "Cb3ckdkanDJ1"
      },
      "outputs": [],
      "source": [
        "!python3 run_adaptpose.py --note poseaug --posenet_name 'videopose' --lr_p 1e-4 --checkpoint './checkpoint/adaptpose' --keypoints gt --keypoints_target gt --dataset_target '3dhp'  --pretrain_path './checkpoint/pretrain_baseline/videopose/gt/3dhp/ckpt_best.pth.tar'  --pad 13 "
      ]
    },
    {
      "cell_type": "markdown",
      "metadata": {
        "id": "RAGIz3qbJRqb"
      },
      "source": [
        "**2.Cross-dataset Evaluation for 3DPW**"
      ]
    },
    {
      "cell_type": "code",
      "execution_count": null,
      "metadata": {
        "id": "kMK7xXrUJv_I"
      },
      "outputs": [],
      "source": [
        "!python3 run_adaptpose.py --note poseaug --posenet_name 'videopose' --lr_p 1e-4 --checkpoint './checkpoint/adaptpose' --keypoints gt --keypoints_target gt --dataset_target '3dpw'  --pretrain_path './checkpoint/pretrain_baseline/videopose/gt/3dhp/ckpt_best.pth.tar'  --pad 13 "
      ]
    }
  ],
  "metadata": {
    "accelerator": "GPU",
    "colab": {
      "authorship_tag": "ABX9TyOlyqap6yX3jY+F0YChyyZZ",
      "collapsed_sections": [],
      "include_colab_link": true,
      "machine_shape": "hm",
      "name": "AdaptPose.ipynb",
      "provenance": []
    },
    "kernelspec": {
      "display_name": "apenv",
      "language": "python",
      "name": "python3"
    },
    "language_info": {
      "codemirror_mode": {
        "name": "ipython",
        "version": 3
      },
      "file_extension": ".py",
      "mimetype": "text/x-python",
      "name": "python",
      "nbconvert_exporter": "python",
      "pygments_lexer": "ipython3",
      "version": "3.9.0"
    },
    "vscode": {
      "interpreter": {
        "hash": "20e344a3cea68bd6cea1e0130409a27a904988cc8ac4b66eee0b58e9421da444"
      }
    }
  },
  "nbformat": 4,
  "nbformat_minor": 0
}
