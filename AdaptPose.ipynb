{
  "cells": [
    {
      "cell_type": "markdown",
      "metadata": {
        "colab_type": "text",
        "id": "view-in-github"
      },
      "source": [
        "<a href=\"https://colab.research.google.com/github/mgholamikn/AdaptPose/blob/main/AdaptPose.ipynb\" target=\"_parent\"><img src=\"https://colab.research.google.com/assets/colab-badge.svg\" alt=\"Open In Colab\"/></a>"
      ]
    },
    {
      "cell_type": "markdown",
      "metadata": {
        "id": "Xtvy95RHLbrd"
      },
      "source": [
        "# **AdaptPose: Cross-dataset Adaptation of 3D Human Pose Estimation by Learnable Motion Generator**"
      ]
    },
    {
      "cell_type": "markdown",
      "metadata": {
        "id": "6hfK6GfCJ5r4"
      },
      "source": [
        "Here we provide the following experiments: \n",
        "\n",
        "1.   Cross-dataset evaluation on 3DHP: source H3.6M, target: 3DHP\n",
        "2.   Cross-dataset evaluation on 3DPW: source H3.6M, target: 3DPW\n",
        "3.   Cross-dataset trainin on 3DHP: source H3.6M, target: 3DHP\n",
        "4.   Cross-dataset trainin on 3DPW: source H3.6M, target: 3DPW\n"
      ]
    },
    {
      "attachments": {},
      "cell_type": "markdown",
      "metadata": {
        "id": "1SLaOn0PIfmT"
      },
      "source": [
        "# Install Dependencies\n",
        "\n",
        "请用python3.8环境，以确保能找到对应pytorch"
      ]
    },
    {
      "cell_type": "code",
      "execution_count": null,
      "metadata": {},
      "outputs": [],
      "source": [
        "# 临时补充\n",
        "# %pip install pexpect\n",
        "# %pip install psutil\n",
        "%pip install PyQt5\n",
        "# %pip install distutils"
      ]
    },
    {
      "cell_type": "code",
      "execution_count": null,
      "metadata": {
        "colab": {
          "base_uri": "https://localhost:8080/"
        },
        "id": "WePRpLEMZK-O",
        "outputId": "10a5d497-3fe3-4b21-db75-739552ef07d0"
      },
      "outputs": [],
      "source": [
        "%pip install certifi==2020.12.5\n",
        "%pip install cffi==1.14.0\n",
        "%pip install cycler==0.10.0\n",
        "%pip install kiwisolver==1.3.1\n",
        "%pip install matplotlib==3.1.3\n",
        "# %pip install mkl-fft==1.3.0\n",
        "# pip上只有很老的版本，需要conda安装\n",
        "%conda install -c intel mkl_fft==1.3.0\n",
        "%pip install mkl-random==1.1.1\n",
        "%pip install mkl-service==2.3.0\n",
        "%pip install nbconvert==5.6.1\n",
        "%pip install numpy \n",
        "%pip install olefile==0.46\n",
        "%pip install Pillow \n",
        "%pip install protobuf==3.15.6\n",
        "%pip install pycparser \n",
        "%pip install pyparsing==2.4.7\n",
        "%pip install python-dateutil==2.8.1\n",
        "%pip install scipy==1.4.1\n",
        "%pip install six \n",
        "%pip install tensorboardX==1.6\n",
        "# %pip install torch\n",
        "%conda install pytorch torchvision pytorch-cuda=11.6 -c pytorch -c nvidia\n",
        "%pip install torchgeometry==0.1.2\n",
        "# %pip install torchvision==0.2.2"
      ]
    },
    {
      "attachments": {},
      "cell_type": "markdown",
      "metadata": {},
      "source": [
        "## Pytorch安装"
      ]
    },
    {
      "cell_type": "code",
      "execution_count": null,
      "metadata": {
        "colab": {
          "base_uri": "https://localhost:8080/",
          "height": 1000
        },
        "id": "SGJ-DPf5SrJG",
        "outputId": "fa53dc6f-34b6-4e02-ab5a-fb462a2ddae5"
      },
      "outputs": [],
      "source": [
        "import sys\n",
        "import torch\n",
        "version_str=\"\".join([\n",
        "    f\"py3{sys.version_info.minor}_cu\",\n",
        "    torch.version.cuda.replace(\".\",\"\"),\n",
        "    f\"_pyt{torch.__version__[0:5:2]}\"\n",
        "])\n",
        "%pip install pytorch3d -f https://dl.fbaipublicfiles.com/pytorch3d/packaging/wheels/{version_str}/download.html"
      ]
    },
    {
      "attachments": {},
      "cell_type": "markdown",
      "metadata": {
        "id": "-hFL4HUhV2tI"
      },
      "source": [
        "# 下载数据\n",
        "\n",
        "实验室服务器连不到google，需要手动下载后上传"
      ]
    },
    {
      "cell_type": "code",
      "execution_count": null,
      "metadata": {
        "id": "_1SEly7kV27E"
      },
      "outputs": [],
      "source": [
        "# #%cd /TO/AdaptPose/ \n",
        "# !ls\n",
        "# %cd data\n",
        "# ## download data\n",
        "# !gdown --id 1_cJ2vG5wxRQUtWavz47XAwaMvU9pQB_X\n",
        "# !gdown --id 1NX9dT1nKX-8t_eZR3vnfrdyOegG7pDBs\n",
        "# !gdown --id 1v3-LDnjlHT8OJi40E7OKDBGY7dWM9P2n\n",
        "# !gdown --id 12voJG5DBFy_2xT3lNdLYA4ZCTYjs7Iyv\n",
        "# !gdown --id 1Y96GlQOEkc2Gx6V4FpvTwCyJjrUX3FYu\n",
        "# !gdown --id 1vL53iJ1mWao3TKK3p52ZX_jdF5d5EBtl\n",
        "# !gdown --id 1EbVV-nzrrQ2KdT_GG4JPwv1A7EOnFka1\n",
        "# ## download pretrained models\n",
        "# %cd ..\n",
        "# %cd checkpoint/adaptpose/videopose/gt/3dhp/\n",
        "# !gdown --id 11QJf-B5D1_aqsMR3v-9rrfht4W7ErC4k\n",
        "# %cd ../../../../..\n",
        "# %cd checkpoint/adaptpose/videopose/gt/3dpw/\n",
        "# !gdown --id 1LUi1OQ7vWQ5KXJ9HlSvtveiOEacG1WoS\n",
        "# %cd ../../../../..\n",
        "# %cd checkpoint/adaptpose/videopose/gt/skii/\n",
        "# !gdown --id 1b1_A7SuBdGaPNXzsx2qLOg0_RqIuk6Cx\n",
        "# %cd ../../../../..\n",
        "# %cd checkpoint/pretrain_baseline/videopose/gt/3dhp/\n",
        "# !gdown --id 1SmSXrk_LcpsXBpBEsSp0zq9qIpb4aJBU\n",
        "# %cd ../../../../.."
      ]
    },
    {
      "attachments": {},
      "cell_type": "markdown",
      "metadata": {
        "id": "M_gEjI73LAES"
      },
      "source": [
        "# Experiments"
      ]
    },
    {
      "attachments": {},
      "cell_type": "markdown",
      "metadata": {
        "id": "TIoGNrmTbr5G"
      },
      "source": [
        "## 1. 作者提供的3DHP迁移后最佳表现"
      ]
    },
    {
      "cell_type": "code",
      "execution_count": null,
      "metadata": {
        "colab": {
          "base_uri": "https://localhost:8080/"
        },
        "id": "rWHxp3hWcMfH",
        "outputId": "a0a14ce3-9cfc-4512-9065-35aec3f42efe"
      },
      "outputs": [],
      "source": [
        "!python3  run_evaluate.py --posenet_name 'videopose' --keypoints gt --evaluate  'checkpoint/adaptpose/videopose/gt/3dhp/ckpt_best_dhp_p1.pth.tar' --dataset_target 3dhp --keypoints_target 'gt' --pad 13  --pretrain_path  'checkpoint/pretrain_baseline/videopose/gt/3dhp/ckpt_best.pth.tar'"
      ]
    },
    {
      "attachments": {},
      "cell_type": "markdown",
      "metadata": {
        "id": "gE8hENgkWhvt"
      },
      "source": [
        "## 2. 对3DHP做迁移训练"
      ]
    },
    {
      "cell_type": "code",
      "execution_count": 1,
      "metadata": {
        "id": "Cb3ckdkanDJ1"
      },
      "outputs": [
        {
          "name": "stdout",
          "output_type": "stream",
          "text": [
            "^C\n",
            "Traceback (most recent call last):\n",
            "  File \"run_adaptpose.py\", line 183, in <module>\n",
            "    main(args)\n",
            "  File \"run_adaptpose.py\", line 31, in main\n",
            "    data_dict = data_preparation(args)\n",
            "  File \"/home/data/yyc/ap/function_adaptpose/data_preparation.py\", line 75, in data_preparation\n",
            "    'data', 'data_'+args.dataset_target + '_' + args.keypoints_target + '_train.npz'), dataset)\n",
            "  File \"/home/data/yyc/ap/utils/data_utils.py\", line 41, in create_2d_data_target\n",
            "    keypoints[subject][seq][cam_idx][ii,:,:] = normalize_screen_coordinates(keypoints[subject][seq][cam_idx][ii,joints,:2], w=2048, h=2048)\n",
            "  File \"/home/data/yyc/ap/common/camera.py\", line 14, in normalize_screen_coordinates\n",
            "    return X / w * 2 - [1, h / w]\n",
            "KeyboardInterrupt\n"
          ]
        }
      ],
      "source": [
        "epoch_num=20\n",
        "# nohup python3 run_adaptpose.py --note poseaug --posenet_name 'videopose' --lr_p 1e-4 --checkpoint './checkpoint/adaptpose' --keypoints gt --keypoints_target gt --dataset_target '3dhp'  --pretrain_path './checkpoint/pretrain_baseline/videopose/gt/3dhp/ckpt_best.pth.tar'  --pad 13 >>train.log 2>&1 &\n",
        "# notebook不支持后台运行，copy上面这行手动跑\n",
        "!python3 run_adaptpose.py --note poseaug --posenet_name 'videopose' --lr_p 1e-4 --checkpoint './checkpoint/adaptpose' --keypoints gt --keypoints_target gt --dataset_target '3dhp'  --pretrain_path './checkpoint/pretrain_baseline/videopose/gt/3dhp/ckpt_best.pth.tar'  --pad 13 --epochs {epoch_num}\n"
      ]
    },
    {
      "attachments": {},
      "cell_type": "markdown",
      "metadata": {},
      "source": [
        "## 3. 在3DHP上测试未经迁移的模型"
      ]
    },
    {
      "cell_type": "code",
      "execution_count": null,
      "metadata": {},
      "outputs": [],
      "source": [
        "!python3  run_evaluate.py --posenet_name 'videopose' --keypoints gt --evaluate 'checkpoint/pretrain_baseline/videopose/gt/3dhp/ckpt_best.pth.tar' --dataset_target 3dhp --keypoints_target 'gt' --pad 13"
      ]
    },
    {
      "attachments": {},
      "cell_type": "markdown",
      "metadata": {},
      "source": [
        "## 4. 在3DHP上测试复现训练的模型"
      ]
    },
    {
      "cell_type": "code",
      "execution_count": null,
      "metadata": {},
      "outputs": [],
      "source": [
        "test_folder_name=\"trained3dhp2\"\n",
        "!python3  run_evaluate.py --posenet_name 'videopose' --keypoints gt --evaluate  'checkpoint/adaptpose/videopose/gt/{test_folder_name}/ckpt_best_dhp_p1.pth.tar' --dataset_target '3dhp' --keypoints_target 'gt' --pad 13"
      ]
    }
  ],
  "metadata": {
    "accelerator": "GPU",
    "colab": {
      "authorship_tag": "ABX9TyOlyqap6yX3jY+F0YChyyZZ",
      "collapsed_sections": [],
      "include_colab_link": true,
      "machine_shape": "hm",
      "name": "AdaptPose.ipynb",
      "provenance": []
    },
    "kernelspec": {
      "display_name": "ap",
      "language": "python",
      "name": "python3"
    },
    "language_info": {
      "codemirror_mode": {
        "name": "ipython",
        "version": 3
      },
      "file_extension": ".py",
      "mimetype": "text/x-python",
      "name": "python",
      "nbconvert_exporter": "python",
      "pygments_lexer": "ipython3",
      "version": "3.6.9 |Anaconda, Inc.| (default, Jul 30 2019, 19:07:31) \n[GCC 7.3.0]"
    },
    "vscode": {
      "interpreter": {
        "hash": "b587e32664cc3c61e772aadf20bd8c3a9acfc6bc0e8d288ed704a2bf816be388"
      }
    }
  },
  "nbformat": 4,
  "nbformat_minor": 0
}
