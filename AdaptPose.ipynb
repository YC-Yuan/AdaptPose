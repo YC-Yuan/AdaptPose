{
  "cells": [
    {
      "cell_type": "markdown",
      "metadata": {
        "colab_type": "text",
        "id": "view-in-github"
      },
      "source": [
        "<a href=\"https://colab.research.google.com/github/mgholamikn/AdaptPose/blob/main/AdaptPose.ipynb\" target=\"_parent\"><img src=\"https://colab.research.google.com/assets/colab-badge.svg\" alt=\"Open In Colab\"/></a>"
      ]
    },
    {
      "cell_type": "markdown",
      "metadata": {
        "id": "Xtvy95RHLbrd"
      },
      "source": [
        "# **AdaptPose: Cross-dataset Adaptation of 3D Human Pose Estimation by Learnable Motion Generator**"
      ]
    },
    {
      "cell_type": "markdown",
      "metadata": {
        "id": "6hfK6GfCJ5r4"
      },
      "source": [
        "Here we provide the following experiments: \n",
        "\n",
        "1.   Cross-dataset evaluation on 3DHP: source H3.6M, target: 3DHP\n",
        "2.   Cross-dataset evaluation on 3DPW: source H3.6M, target: 3DPW\n",
        "3.   Cross-dataset trainin on 3DHP: source H3.6M, target: 3DHP\n",
        "4.   Cross-dataset trainin on 3DPW: source H3.6M, target: 3DPW\n"
      ]
    },
    {
      "cell_type": "markdown",
      "metadata": {
        "id": "1SLaOn0PIfmT"
      },
      "source": [
        "# **Install Dependencies**"
      ]
    },
    {
      "cell_type": "code",
      "execution_count": 1,
      "metadata": {
        "colab": {
          "base_uri": "https://localhost:8080/"
        },
        "id": "WePRpLEMZK-O",
        "outputId": "10a5d497-3fe3-4b21-db75-739552ef07d0"
      },
      "outputs": [
        {
          "name": "stdout",
          "output_type": "stream",
          "text": [
            "Looking in indexes: https://pypi.tuna.tsinghua.edu.cn/simple\n",
            "Collecting certifi==2020.12.5\n",
            "  Using cached https://pypi.tuna.tsinghua.edu.cn/packages/5e/a0/5f06e1e1d463903cf0c0eebeb751791119ed7a4b3737fdc9a77f1cdfb51f/certifi-2020.12.5-py2.py3-none-any.whl (147 kB)\n",
            "Installing collected packages: certifi\n",
            "  Attempting uninstall: certifi\n",
            "    Found existing installation: certifi 2022.12.7\n",
            "    Uninstalling certifi-2022.12.7:\n",
            "      Successfully uninstalled certifi-2022.12.7\n",
            "Successfully installed certifi-2020.12.5\n",
            "Looking in indexes: https://pypi.tuna.tsinghua.edu.cn/simple\n",
            "Collecting cffi==1.14.0\n",
            "  Downloading https://pypi.tuna.tsinghua.edu.cn/packages/05/54/3324b0c46340c31b909fcec598696aaec7ddc8c18a63f2db352562d3354c/cffi-1.14.0.tar.gz (463 kB)\n",
            "\u001b[2K     \u001b[90m━━━━━━━━━━━━━━━━━━━━━━━━━━━━━━━━━━━━━\u001b[0m \u001b[32m463.1/463.1 kB\u001b[0m \u001b[31m759.1 kB/s\u001b[0m eta \u001b[36m0:00:00\u001b[0ma \u001b[36m0:00:01\u001b[0m\n",
            "\u001b[?25h  Preparing metadata (setup.py) ... \u001b[?25ldone\n",
            "\u001b[?25hCollecting pycparser\n",
            "  Using cached https://pypi.tuna.tsinghua.edu.cn/packages/62/d5/5f610ebe421e85889f2e55e33b7f9a6795bd982198517d912eb1c76e1a53/pycparser-2.21-py2.py3-none-any.whl (118 kB)\n",
            "Building wheels for collected packages: cffi\n",
            "  Building wheel for cffi (setup.py) ... \u001b[?25ldone\n",
            "\u001b[?25h  Created wheel for cffi: filename=cffi-1.14.0-cp39-cp39-linux_x86_64.whl size=182060 sha256=e8b474d4469a6585efae5892c8c1348cc58df5a05bbe43ea0f35fd47956c5a66\n",
            "  Stored in directory: /home/data/yyc/.cache/pip/wheels/8b/fa/38/20cba8ccc332f93a2c14255678602e1acb6b2cd60b76c92a9b\n",
            "Successfully built cffi\n",
            "Installing collected packages: pycparser, cffi\n",
            "Successfully installed cffi-1.14.0 pycparser-2.21\n",
            "Looking in indexes: https://pypi.tuna.tsinghua.edu.cn/simple\n",
            "Collecting cycler==0.10.0\n",
            "  Using cached https://pypi.tuna.tsinghua.edu.cn/packages/f7/d2/e07d3ebb2bd7af696440ce7e754c59dd546ffe1bbe732c8ab68b9c834e61/cycler-0.10.0-py2.py3-none-any.whl (6.5 kB)\n",
            "Requirement already satisfied: six in /home/data/yyc/.conda/envs/apenv/lib/python3.9/site-packages (from cycler==0.10.0) (1.16.0)\n",
            "Installing collected packages: cycler\n",
            "Successfully installed cycler-0.10.0\n",
            "Looking in indexes: https://pypi.tuna.tsinghua.edu.cn/simple\n",
            "Collecting kiwisolver==1.3.1\n",
            "  Downloading https://pypi.tuna.tsinghua.edu.cn/packages/46/96/36f152864795099e6dc1b2a0cc94f8a8990252a971137eaafc65797e133b/kiwisolver-1.3.1-cp39-cp39-manylinux1_x86_64.whl (1.2 MB)\n",
            "\u001b[2K     \u001b[90m━━━━━━━━━━━━━━━━━━━━━━━━━━━━━━━━━━━━━━━━\u001b[0m \u001b[32m1.2/1.2 MB\u001b[0m \u001b[31m1.6 MB/s\u001b[0m eta \u001b[36m0:00:00\u001b[0ma \u001b[36m0:00:01\u001b[0m0m\n",
            "\u001b[?25hInstalling collected packages: kiwisolver\n",
            "Successfully installed kiwisolver-1.3.1\n",
            "Looking in indexes: https://pypi.tuna.tsinghua.edu.cn/simple\n",
            "Collecting matplotlib==3.1.3\n",
            "  Downloading https://pypi.tuna.tsinghua.edu.cn/packages/be/74/24d058c17b155d131359f1cd01e120b3954686bf8b7853172b279237e1dc/matplotlib-3.1.3.tar.gz (40.9 MB)\n",
            "\u001b[2K     \u001b[90m━━━━━━━━━━━━━━━━━━━━━━━━━━━━━━━━━━━━━━━━\u001b[0m \u001b[32m40.9/40.9 MB\u001b[0m \u001b[31m2.1 MB/s\u001b[0m eta \u001b[36m0:00:00\u001b[0m00:01\u001b[0m00:01\u001b[0m\n",
            "\u001b[?25h  Preparing metadata (setup.py) ... \u001b[?25ldone\n",
            "\u001b[?25hRequirement already satisfied: cycler>=0.10 in /home/data/yyc/.conda/envs/apenv/lib/python3.9/site-packages (from matplotlib==3.1.3) (0.10.0)\n",
            "Requirement already satisfied: kiwisolver>=1.0.1 in /home/data/yyc/.conda/envs/apenv/lib/python3.9/site-packages (from matplotlib==3.1.3) (1.3.1)\n",
            "Collecting pyparsing!=2.0.4,!=2.1.2,!=2.1.6,>=2.0.1\n",
            "  Using cached https://pypi.tuna.tsinghua.edu.cn/packages/6c/10/a7d0fa5baea8fe7b50f448ab742f26f52b80bfca85ac2be9d35cdd9a3246/pyparsing-3.0.9-py3-none-any.whl (98 kB)\n",
            "Requirement already satisfied: python-dateutil>=2.1 in /home/data/yyc/.conda/envs/apenv/lib/python3.9/site-packages (from matplotlib==3.1.3) (2.8.2)\n",
            "Collecting numpy>=1.11\n",
            "  Using cached https://pypi.tuna.tsinghua.edu.cn/packages/43/55/fea3342371187dea4044521c0ba82b90fb5a42fb92446be019b316dd3320/numpy-1.24.1-cp39-cp39-manylinux_2_17_x86_64.manylinux2014_x86_64.whl (17.3 MB)\n",
            "Requirement already satisfied: six in /home/data/yyc/.conda/envs/apenv/lib/python3.9/site-packages (from cycler>=0.10->matplotlib==3.1.3) (1.16.0)\n",
            "Building wheels for collected packages: matplotlib\n",
            "  Building wheel for matplotlib (setup.py) ... \u001b[?25ldone\n",
            "\u001b[?25h  Created wheel for matplotlib: filename=matplotlib-3.1.3-cp39-cp39-linux_x86_64.whl size=8491042 sha256=0362a0d70201c8a2fd6eb37ebb19d1e702327b36676a2994290dc86aab0a3d17\n",
            "  Stored in directory: /home/data/yyc/.cache/pip/wheels/eb/2a/75/e364a40416200d1b5fca0eed77fb74a5e24dd7b05e2e058691\n",
            "Successfully built matplotlib\n",
            "Installing collected packages: pyparsing, numpy, matplotlib\n",
            "Successfully installed matplotlib-3.1.3 numpy-1.24.1 pyparsing-3.0.9\n",
            "Looking in indexes: https://pypi.tuna.tsinghua.edu.cn/simple\n",
            "\u001b[31mERROR: Could not find a version that satisfies the requirement mkl-fft==1.3.0 (from versions: 1.3.1)\u001b[0m\u001b[31m\n",
            "\u001b[0m\u001b[31mERROR: No matching distribution found for mkl-fft==1.3.0\u001b[0m\u001b[31m\n",
            "\u001b[0mLooking in indexes: https://pypi.tuna.tsinghua.edu.cn/simple\n",
            "\u001b[31mERROR: Could not find a version that satisfies the requirement mkl-random==1.1.1 (from versions: 1.2.2)\u001b[0m\u001b[31m\n",
            "\u001b[0m\u001b[31mERROR: No matching distribution found for mkl-random==1.1.1\u001b[0m\u001b[31m\n",
            "\u001b[0mLooking in indexes: https://pypi.tuna.tsinghua.edu.cn/simple\n",
            "\u001b[31mERROR: Could not find a version that satisfies the requirement mkl-service==2.3.0 (from versions: 2.4.0)\u001b[0m\u001b[31m\n",
            "\u001b[0m\u001b[31mERROR: No matching distribution found for mkl-service==2.3.0\u001b[0m\u001b[31m\n",
            "\u001b[0mLooking in indexes: https://pypi.tuna.tsinghua.edu.cn/simple\n",
            "Collecting nbconvert==5.6.1\n",
            "  Using cached https://pypi.tuna.tsinghua.edu.cn/packages/79/6c/05a569e9f703d18aacb89b7ad6075b404e8a4afde2c26b73ca77bb644b14/nbconvert-5.6.1-py2.py3-none-any.whl (455 kB)\n",
            "Collecting testpath\n",
            "  Using cached https://pypi.tuna.tsinghua.edu.cn/packages/86/43/1ebfb29c2ca1df2bdb33dbcb2b526b77ee96873ba7b9e25650ddd4ae7156/testpath-0.6.0-py3-none-any.whl (83 kB)\n",
            "Collecting bleach\n",
            "  Using cached https://pypi.tuna.tsinghua.edu.cn/packages/d4/87/508104336a2bc0c4cfdbdceedc0f44dc72da3abc0460c57e323ddd1b3257/bleach-5.0.1-py3-none-any.whl (160 kB)\n",
            "Requirement already satisfied: pygments in /home/data/yyc/.conda/envs/apenv/lib/python3.9/site-packages (from nbconvert==5.6.1) (2.14.0)\n",
            "Requirement already satisfied: jupyter-core in /home/data/yyc/.conda/envs/apenv/lib/python3.9/site-packages (from nbconvert==5.6.1) (5.1.3)\n",
            "Collecting nbformat>=4.4\n",
            "  Using cached https://pypi.tuna.tsinghua.edu.cn/packages/64/16/9a60c6d61a21fb64897ed58caf53686d218a104c38cc2e25b296509dbf98/nbformat-5.7.2-py3-none-any.whl (78 kB)\n",
            "Collecting mistune<2,>=0.8.1\n",
            "  Using cached https://pypi.tuna.tsinghua.edu.cn/packages/09/ec/4b43dae793655b7d8a25f76119624350b4d65eb663459eb9603d7f1f0345/mistune-0.8.4-py2.py3-none-any.whl (16 kB)\n",
            "Requirement already satisfied: traitlets>=4.2 in /home/data/yyc/.conda/envs/apenv/lib/python3.9/site-packages (from nbconvert==5.6.1) (5.8.1)\n",
            "Collecting pandocfilters>=1.4.1\n",
            "  Using cached https://pypi.tuna.tsinghua.edu.cn/packages/5e/a8/878258cffd53202a6cc1903c226cf09e58ae3df6b09f8ddfa98033286637/pandocfilters-1.5.0-py2.py3-none-any.whl (8.7 kB)\n",
            "Collecting jinja2>=2.4\n",
            "  Using cached https://pypi.tuna.tsinghua.edu.cn/packages/bc/c3/f068337a370801f372f2f8f6bad74a5c140f6fda3d9de154052708dd3c65/Jinja2-3.1.2-py3-none-any.whl (133 kB)\n",
            "Requirement already satisfied: entrypoints>=0.2.2 in /home/data/yyc/.conda/envs/apenv/lib/python3.9/site-packages (from nbconvert==5.6.1) (0.4)\n",
            "Collecting defusedxml\n",
            "  Using cached https://pypi.tuna.tsinghua.edu.cn/packages/07/6c/aa3f2f849e01cb6a001cd8554a88d4c77c5c1a31c95bdf1cf9301e6d9ef4/defusedxml-0.7.1-py2.py3-none-any.whl (25 kB)\n",
            "Collecting MarkupSafe>=2.0\n",
            "  Downloading https://pypi.tuna.tsinghua.edu.cn/packages/df/06/c515c5bc43b90462e753bc768e6798193c6520c9c7eb2054c7466779a9db/MarkupSafe-2.1.1-cp39-cp39-manylinux_2_17_x86_64.manylinux2014_x86_64.whl (25 kB)\n",
            "Collecting jsonschema>=2.6\n",
            "  Using cached https://pypi.tuna.tsinghua.edu.cn/packages/c1/97/c698bd9350f307daad79dd740806e1a59becd693bd11443a0f531e3229b3/jsonschema-4.17.3-py3-none-any.whl (90 kB)\n",
            "Collecting fastjsonschema\n",
            "  Using cached https://pypi.tuna.tsinghua.edu.cn/packages/e4/be/cf1b876348070a23cb0c3ebfee7a452ad3a91b07b456dade3bd514656009/fastjsonschema-2.16.2-py3-none-any.whl (22 kB)\n",
            "Collecting webencodings\n",
            "  Using cached https://pypi.tuna.tsinghua.edu.cn/packages/f4/24/2a3e3df732393fed8b3ebf2ec078f05546de641fe1b667ee316ec1dcf3b7/webencodings-0.5.1-py2.py3-none-any.whl (11 kB)\n",
            "Requirement already satisfied: six>=1.9.0 in /home/data/yyc/.conda/envs/apenv/lib/python3.9/site-packages (from bleach->nbconvert==5.6.1) (1.16.0)\n",
            "Requirement already satisfied: platformdirs>=2.5 in /home/data/yyc/.conda/envs/apenv/lib/python3.9/site-packages (from jupyter-core->nbconvert==5.6.1) (2.6.2)\n",
            "Collecting attrs>=17.4.0\n",
            "  Using cached https://pypi.tuna.tsinghua.edu.cn/packages/fb/6e/6f83bf616d2becdf333a1640f1d463fef3150e2e926b7010cb0f81c95e88/attrs-22.2.0-py3-none-any.whl (60 kB)\n",
            "Collecting pyrsistent!=0.17.0,!=0.17.1,!=0.17.2,>=0.14.0\n",
            "  Using cached https://pypi.tuna.tsinghua.edu.cn/packages/64/de/375aa14daaee107f987da76ca32f7a907fea00fa8b8afb67dc09bec0de91/pyrsistent-0.19.3-py3-none-any.whl (57 kB)\n",
            "Installing collected packages: webencodings, mistune, fastjsonschema, testpath, pyrsistent, pandocfilters, MarkupSafe, defusedxml, bleach, attrs, jsonschema, jinja2, nbformat, nbconvert\n",
            "Successfully installed MarkupSafe-2.1.1 attrs-22.2.0 bleach-5.0.1 defusedxml-0.7.1 fastjsonschema-2.16.2 jinja2-3.1.2 jsonschema-4.17.3 mistune-0.8.4 nbconvert-5.6.1 nbformat-5.7.2 pandocfilters-1.5.0 pyrsistent-0.19.3 testpath-0.6.0 webencodings-0.5.1\n",
            "Looking in indexes: https://pypi.tuna.tsinghua.edu.cn/simple\n",
            "Requirement already satisfied: numpy in /home/data/yyc/.conda/envs/apenv/lib/python3.9/site-packages (1.24.1)\n",
            "Looking in indexes: https://pypi.tuna.tsinghua.edu.cn/simple\n",
            "Collecting olefile==0.46\n",
            "  Using cached https://pypi.tuna.tsinghua.edu.cn/packages/34/81/e1ac43c6b45b4c5f8d9352396a14144bba52c8fec72a80f425f6a4d653ad/olefile-0.46.zip (112 kB)\n",
            "  Preparing metadata (setup.py) ... \u001b[?25ldone\n",
            "\u001b[?25hBuilding wheels for collected packages: olefile\n",
            "  Building wheel for olefile (setup.py) ... \u001b[?25ldone\n",
            "\u001b[?25h  Created wheel for olefile: filename=olefile-0.46-py2.py3-none-any.whl size=35415 sha256=6a06eb421bda2bf54d95415e6284519d912b8170ed5490f66f128aca25c3bee8\n",
            "  Stored in directory: /home/data/yyc/.cache/pip/wheels/27/e8/89/6ea6bf88439c9ef62473281e2cc5bbf09d8e028e1bad7d0bf4\n",
            "Successfully built olefile\n",
            "Installing collected packages: olefile\n",
            "Successfully installed olefile-0.46\n",
            "Looking in indexes: https://pypi.tuna.tsinghua.edu.cn/simple\n",
            "Collecting Pillow\n",
            "  Downloading https://pypi.tuna.tsinghua.edu.cn/packages/de/e2/d1dda94185dba4fc019744076e52e2c6b450620938b2ded7b31ba90bd559/Pillow-9.4.0-cp39-cp39-manylinux_2_28_x86_64.whl (3.4 MB)\n",
            "\u001b[2K     \u001b[90m━━━━━━━━━━━━━━━━━━━━━━━━━━━━━━━━━━━━━━━━\u001b[0m \u001b[32m3.4/3.4 MB\u001b[0m \u001b[31m3.9 MB/s\u001b[0m eta \u001b[36m0:00:00\u001b[0m00:01\u001b[0m00:01\u001b[0m0m\n",
            "\u001b[?25hInstalling collected packages: Pillow\n",
            "Successfully installed Pillow-9.4.0\n",
            "Looking in indexes: https://pypi.tuna.tsinghua.edu.cn/simple\n",
            "Collecting protobuf==3.15.6\n",
            "  Downloading https://pypi.tuna.tsinghua.edu.cn/packages/10/4c/c3e40c56a34cbafac542e04222160af46463cefec312b2d6c6f0d7260ddb/protobuf-3.15.6-cp39-cp39-manylinux1_x86_64.whl (1.0 MB)\n",
            "\u001b[2K     \u001b[90m━━━━━━━━━━━━━━━━━━━━━━━━━━━━━━━━━━━━━━━━\u001b[0m \u001b[32m1.0/1.0 MB\u001b[0m \u001b[31m1.6 MB/s\u001b[0m eta \u001b[36m0:00:00\u001b[0m00:01\u001b[0m00:01\u001b[0m0m\n",
            "\u001b[?25hRequirement already satisfied: six>=1.9 in /home/data/yyc/.conda/envs/apenv/lib/python3.9/site-packages (from protobuf==3.15.6) (1.16.0)\n",
            "Installing collected packages: protobuf\n",
            "Successfully installed protobuf-3.15.6\n",
            "Looking in indexes: https://pypi.tuna.tsinghua.edu.cn/simple\n",
            "Requirement already satisfied: pycparser in /home/data/yyc/.conda/envs/apenv/lib/python3.9/site-packages (2.21)\n",
            "Looking in indexes: https://pypi.tuna.tsinghua.edu.cn/simple\n",
            "Collecting pyparsing==2.4.7\n",
            "  Using cached https://pypi.tuna.tsinghua.edu.cn/packages/8a/bb/488841f56197b13700afd5658fc279a2025a39e22449b7cf29864669b15d/pyparsing-2.4.7-py2.py3-none-any.whl (67 kB)\n",
            "Installing collected packages: pyparsing\n",
            "  Attempting uninstall: pyparsing\n",
            "    Found existing installation: pyparsing 3.0.9\n",
            "    Uninstalling pyparsing-3.0.9:\n",
            "      Successfully uninstalled pyparsing-3.0.9\n",
            "Successfully installed pyparsing-2.4.7\n",
            "Looking in indexes: https://pypi.tuna.tsinghua.edu.cn/simple\n",
            "Collecting python-dateutil==2.8.1\n",
            "  Using cached https://pypi.tuna.tsinghua.edu.cn/packages/d4/70/d60450c3dd48ef87586924207ae8907090de0b306af2bce5d134d78615cb/python_dateutil-2.8.1-py2.py3-none-any.whl (227 kB)\n",
            "Requirement already satisfied: six>=1.5 in /home/data/yyc/.conda/envs/apenv/lib/python3.9/site-packages (from python-dateutil==2.8.1) (1.16.0)\n",
            "Installing collected packages: python-dateutil\n",
            "  Attempting uninstall: python-dateutil\n",
            "    Found existing installation: python-dateutil 2.8.2\n",
            "    Uninstalling python-dateutil-2.8.2:\n",
            "      Successfully uninstalled python-dateutil-2.8.2\n",
            "\u001b[31mERROR: pip's dependency resolver does not currently take into account all the packages that are installed. This behaviour is the source of the following dependency conflicts.\n",
            "jupyter-client 7.4.8 requires python-dateutil>=2.8.2, but you have python-dateutil 2.8.1 which is incompatible.\u001b[0m\u001b[31m\n",
            "\u001b[0mSuccessfully installed python-dateutil-2.8.1\n",
            "Looking in indexes: https://pypi.tuna.tsinghua.edu.cn/simple\n",
            "Collecting scipy==1.4.1\n",
            "  Downloading https://pypi.tuna.tsinghua.edu.cn/packages/04/ab/e2eb3e3f90b9363040a3d885ccc5c79fe20c5b8a3caa8fe3bf47ff653260/scipy-1.4.1.tar.gz (24.6 MB)\n",
            "\u001b[2K     \u001b[90m━━━━━━━━━━━━━━━━━━━━━━━━━━━━━━━━━━━━━━━━\u001b[0m \u001b[32m24.6/24.6 MB\u001b[0m \u001b[31m3.9 MB/s\u001b[0m eta \u001b[36m0:00:00\u001b[0m00:01\u001b[0m00:01\u001b[0m\n",
            "\u001b[?25h  Installing build dependencies ... \u001b[?25ldone\n",
            "\u001b[?25h  Getting requirements to build wheel ... \u001b[?25ldone\n",
            "\u001b[?25h  Preparing metadata (pyproject.toml) ... \u001b[?25lerror\n",
            "  \u001b[1;31merror\u001b[0m: \u001b[1msubprocess-exited-with-error\u001b[0m\n",
            "  \n",
            "  \u001b[31m×\u001b[0m \u001b[32mPreparing metadata \u001b[0m\u001b[1;32m(\u001b[0m\u001b[32mpyproject.toml\u001b[0m\u001b[1;32m)\u001b[0m did not run successfully.\n",
            "  \u001b[31m│\u001b[0m exit code: \u001b[1;36m1\u001b[0m\n",
            "  \u001b[31m╰─>\u001b[0m \u001b[31m[167 lines of output]\u001b[0m\n",
            "  \u001b[31m   \u001b[0m <string>:418: UserWarning: Unrecognized setuptools command ('dist_info --output-dir /tmp/pip-modern-metadata-n7mr3r9g --keep-egg-info'), proceeding with generating Cython sources and expanding templates\n",
            "  \u001b[31m   \u001b[0m Running from scipy source directory.\n",
            "  \u001b[31m   \u001b[0m lapack_opt_info:\n",
            "  \u001b[31m   \u001b[0m lapack_mkl_info:\n",
            "  \u001b[31m   \u001b[0m customize UnixCCompiler\n",
            "  \u001b[31m   \u001b[0m   libraries mkl_rt not found in ['/home/data/yyc/.conda/envs/apenv/lib', '/usr/local/lib', '/usr/lib64', '/usr/lib', '/usr/lib/x86_64-linux-gnu']\n",
            "  \u001b[31m   \u001b[0m   NOT AVAILABLE\n",
            "  \u001b[31m   \u001b[0m \n",
            "  \u001b[31m   \u001b[0m openblas_lapack_info:\n",
            "  \u001b[31m   \u001b[0m customize UnixCCompiler\n",
            "  \u001b[31m   \u001b[0m customize UnixCCompiler\n",
            "  \u001b[31m   \u001b[0m   libraries openblas not found in ['/home/data/yyc/.conda/envs/apenv/lib', '/usr/local/lib', '/usr/lib64', '/usr/lib', '/usr/lib/x86_64-linux-gnu']\n",
            "  \u001b[31m   \u001b[0m   NOT AVAILABLE\n",
            "  \u001b[31m   \u001b[0m \n",
            "  \u001b[31m   \u001b[0m openblas_clapack_info:\n",
            "  \u001b[31m   \u001b[0m customize UnixCCompiler\n",
            "  \u001b[31m   \u001b[0m customize UnixCCompiler\n",
            "  \u001b[31m   \u001b[0m   libraries openblas,lapack not found in ['/home/data/yyc/.conda/envs/apenv/lib', '/usr/local/lib', '/usr/lib64', '/usr/lib', '/usr/lib/x86_64-linux-gnu']\n",
            "  \u001b[31m   \u001b[0m   NOT AVAILABLE\n",
            "  \u001b[31m   \u001b[0m \n",
            "  \u001b[31m   \u001b[0m flame_info:\n",
            "  \u001b[31m   \u001b[0m customize UnixCCompiler\n",
            "  \u001b[31m   \u001b[0m   libraries flame not found in ['/home/data/yyc/.conda/envs/apenv/lib', '/usr/local/lib', '/usr/lib64', '/usr/lib', '/usr/lib/x86_64-linux-gnu']\n",
            "  \u001b[31m   \u001b[0m   NOT AVAILABLE\n",
            "  \u001b[31m   \u001b[0m \n",
            "  \u001b[31m   \u001b[0m atlas_3_10_threads_info:\n",
            "  \u001b[31m   \u001b[0m Setting PTATLAS=ATLAS\n",
            "  \u001b[31m   \u001b[0m customize UnixCCompiler\n",
            "  \u001b[31m   \u001b[0m   libraries lapack_atlas not found in /home/data/yyc/.conda/envs/apenv/lib\n",
            "  \u001b[31m   \u001b[0m customize UnixCCompiler\n",
            "  \u001b[31m   \u001b[0m   libraries tatlas,tatlas not found in /home/data/yyc/.conda/envs/apenv/lib\n",
            "  \u001b[31m   \u001b[0m customize UnixCCompiler\n",
            "  \u001b[31m   \u001b[0m   libraries lapack_atlas not found in /usr/local/lib\n",
            "  \u001b[31m   \u001b[0m customize UnixCCompiler\n",
            "  \u001b[31m   \u001b[0m   libraries tatlas,tatlas not found in /usr/local/lib\n",
            "  \u001b[31m   \u001b[0m customize UnixCCompiler\n",
            "  \u001b[31m   \u001b[0m   libraries lapack_atlas not found in /usr/lib64\n",
            "  \u001b[31m   \u001b[0m customize UnixCCompiler\n",
            "  \u001b[31m   \u001b[0m   libraries tatlas,tatlas not found in /usr/lib64\n",
            "  \u001b[31m   \u001b[0m customize UnixCCompiler\n",
            "  \u001b[31m   \u001b[0m   libraries lapack_atlas not found in /usr/lib\n",
            "  \u001b[31m   \u001b[0m customize UnixCCompiler\n",
            "  \u001b[31m   \u001b[0m   libraries tatlas,tatlas not found in /usr/lib\n",
            "  \u001b[31m   \u001b[0m customize UnixCCompiler\n",
            "  \u001b[31m   \u001b[0m   libraries lapack_atlas not found in /usr/lib/x86_64-linux-gnu\n",
            "  \u001b[31m   \u001b[0m customize UnixCCompiler\n",
            "  \u001b[31m   \u001b[0m   libraries tatlas,tatlas not found in /usr/lib/x86_64-linux-gnu\n",
            "  \u001b[31m   \u001b[0m <class 'numpy.distutils.system_info.atlas_3_10_threads_info'>\n",
            "  \u001b[31m   \u001b[0m   NOT AVAILABLE\n",
            "  \u001b[31m   \u001b[0m \n",
            "  \u001b[31m   \u001b[0m atlas_3_10_info:\n",
            "  \u001b[31m   \u001b[0m customize UnixCCompiler\n",
            "  \u001b[31m   \u001b[0m   libraries lapack_atlas not found in /home/data/yyc/.conda/envs/apenv/lib\n",
            "  \u001b[31m   \u001b[0m customize UnixCCompiler\n",
            "  \u001b[31m   \u001b[0m   libraries satlas,satlas not found in /home/data/yyc/.conda/envs/apenv/lib\n",
            "  \u001b[31m   \u001b[0m customize UnixCCompiler\n",
            "  \u001b[31m   \u001b[0m   libraries lapack_atlas not found in /usr/local/lib\n",
            "  \u001b[31m   \u001b[0m customize UnixCCompiler\n",
            "  \u001b[31m   \u001b[0m   libraries satlas,satlas not found in /usr/local/lib\n",
            "  \u001b[31m   \u001b[0m customize UnixCCompiler\n",
            "  \u001b[31m   \u001b[0m   libraries lapack_atlas not found in /usr/lib64\n",
            "  \u001b[31m   \u001b[0m customize UnixCCompiler\n",
            "  \u001b[31m   \u001b[0m   libraries satlas,satlas not found in /usr/lib64\n",
            "  \u001b[31m   \u001b[0m customize UnixCCompiler\n",
            "  \u001b[31m   \u001b[0m   libraries lapack_atlas not found in /usr/lib\n",
            "  \u001b[31m   \u001b[0m customize UnixCCompiler\n",
            "  \u001b[31m   \u001b[0m   libraries satlas,satlas not found in /usr/lib\n",
            "  \u001b[31m   \u001b[0m customize UnixCCompiler\n",
            "  \u001b[31m   \u001b[0m   libraries lapack_atlas not found in /usr/lib/x86_64-linux-gnu\n",
            "  \u001b[31m   \u001b[0m customize UnixCCompiler\n",
            "  \u001b[31m   \u001b[0m   libraries satlas,satlas not found in /usr/lib/x86_64-linux-gnu\n",
            "  \u001b[31m   \u001b[0m <class 'numpy.distutils.system_info.atlas_3_10_info'>\n",
            "  \u001b[31m   \u001b[0m   NOT AVAILABLE\n",
            "  \u001b[31m   \u001b[0m \n",
            "  \u001b[31m   \u001b[0m atlas_threads_info:\n",
            "  \u001b[31m   \u001b[0m Setting PTATLAS=ATLAS\n",
            "  \u001b[31m   \u001b[0m customize UnixCCompiler\n",
            "  \u001b[31m   \u001b[0m   libraries lapack_atlas not found in /home/data/yyc/.conda/envs/apenv/lib\n",
            "  \u001b[31m   \u001b[0m customize UnixCCompiler\n",
            "  \u001b[31m   \u001b[0m   libraries ptf77blas,ptcblas,atlas not found in /home/data/yyc/.conda/envs/apenv/lib\n",
            "  \u001b[31m   \u001b[0m customize UnixCCompiler\n",
            "  \u001b[31m   \u001b[0m   libraries lapack_atlas not found in /usr/local/lib\n",
            "  \u001b[31m   \u001b[0m customize UnixCCompiler\n",
            "  \u001b[31m   \u001b[0m   libraries ptf77blas,ptcblas,atlas not found in /usr/local/lib\n",
            "  \u001b[31m   \u001b[0m customize UnixCCompiler\n",
            "  \u001b[31m   \u001b[0m   libraries lapack_atlas not found in /usr/lib64\n",
            "  \u001b[31m   \u001b[0m customize UnixCCompiler\n",
            "  \u001b[31m   \u001b[0m   libraries ptf77blas,ptcblas,atlas not found in /usr/lib64\n",
            "  \u001b[31m   \u001b[0m customize UnixCCompiler\n",
            "  \u001b[31m   \u001b[0m   libraries lapack_atlas not found in /usr/lib\n",
            "  \u001b[31m   \u001b[0m customize UnixCCompiler\n",
            "  \u001b[31m   \u001b[0m   libraries ptf77blas,ptcblas,atlas not found in /usr/lib\n",
            "  \u001b[31m   \u001b[0m customize UnixCCompiler\n",
            "  \u001b[31m   \u001b[0m   libraries lapack_atlas not found in /usr/lib/x86_64-linux-gnu\n",
            "  \u001b[31m   \u001b[0m customize UnixCCompiler\n",
            "  \u001b[31m   \u001b[0m   libraries ptf77blas,ptcblas,atlas not found in /usr/lib/x86_64-linux-gnu\n",
            "  \u001b[31m   \u001b[0m <class 'numpy.distutils.system_info.atlas_threads_info'>\n",
            "  \u001b[31m   \u001b[0m   NOT AVAILABLE\n",
            "  \u001b[31m   \u001b[0m \n",
            "  \u001b[31m   \u001b[0m atlas_info:\n",
            "  \u001b[31m   \u001b[0m customize UnixCCompiler\n",
            "  \u001b[31m   \u001b[0m   libraries lapack_atlas not found in /home/data/yyc/.conda/envs/apenv/lib\n",
            "  \u001b[31m   \u001b[0m customize UnixCCompiler\n",
            "  \u001b[31m   \u001b[0m   libraries f77blas,cblas,atlas not found in /home/data/yyc/.conda/envs/apenv/lib\n",
            "  \u001b[31m   \u001b[0m customize UnixCCompiler\n",
            "  \u001b[31m   \u001b[0m   libraries lapack_atlas not found in /usr/local/lib\n",
            "  \u001b[31m   \u001b[0m customize UnixCCompiler\n",
            "  \u001b[31m   \u001b[0m   libraries f77blas,cblas,atlas not found in /usr/local/lib\n",
            "  \u001b[31m   \u001b[0m customize UnixCCompiler\n",
            "  \u001b[31m   \u001b[0m   libraries lapack_atlas not found in /usr/lib64\n",
            "  \u001b[31m   \u001b[0m customize UnixCCompiler\n",
            "  \u001b[31m   \u001b[0m   libraries f77blas,cblas,atlas not found in /usr/lib64\n",
            "  \u001b[31m   \u001b[0m customize UnixCCompiler\n",
            "  \u001b[31m   \u001b[0m   libraries lapack_atlas not found in /usr/lib\n",
            "  \u001b[31m   \u001b[0m customize UnixCCompiler\n",
            "  \u001b[31m   \u001b[0m   libraries f77blas,cblas,atlas not found in /usr/lib\n",
            "  \u001b[31m   \u001b[0m customize UnixCCompiler\n",
            "  \u001b[31m   \u001b[0m   libraries lapack_atlas not found in /usr/lib/x86_64-linux-gnu\n",
            "  \u001b[31m   \u001b[0m customize UnixCCompiler\n",
            "  \u001b[31m   \u001b[0m   libraries f77blas,cblas,atlas not found in /usr/lib/x86_64-linux-gnu\n",
            "  \u001b[31m   \u001b[0m <class 'numpy.distutils.system_info.atlas_info'>\n",
            "  \u001b[31m   \u001b[0m   NOT AVAILABLE\n",
            "  \u001b[31m   \u001b[0m \n",
            "  \u001b[31m   \u001b[0m accelerate_info:\n",
            "  \u001b[31m   \u001b[0m   NOT AVAILABLE\n",
            "  \u001b[31m   \u001b[0m \n",
            "  \u001b[31m   \u001b[0m lapack_info:\n",
            "  \u001b[31m   \u001b[0m customize UnixCCompiler\n",
            "  \u001b[31m   \u001b[0m   libraries lapack not found in ['/home/data/yyc/.conda/envs/apenv/lib', '/usr/local/lib', '/usr/lib64', '/usr/lib', '/usr/lib/x86_64-linux-gnu']\n",
            "  \u001b[31m   \u001b[0m   NOT AVAILABLE\n",
            "  \u001b[31m   \u001b[0m \n",
            "  \u001b[31m   \u001b[0m /tmp/pip-build-env-k3wxnyof/overlay/lib/python3.9/site-packages/numpy/distutils/system_info.py:1712: UserWarning:\n",
            "  \u001b[31m   \u001b[0m     Lapack (http://www.netlib.org/lapack/) libraries not found.\n",
            "  \u001b[31m   \u001b[0m     Directories to search for the libraries can be specified in the\n",
            "  \u001b[31m   \u001b[0m     numpy/distutils/site.cfg file (section [lapack]) or by setting\n",
            "  \u001b[31m   \u001b[0m     the LAPACK environment variable.\n",
            "  \u001b[31m   \u001b[0m   if getattr(self, '_calc_info_{}'.format(lapack))():\n",
            "  \u001b[31m   \u001b[0m lapack_src_info:\n",
            "  \u001b[31m   \u001b[0m   NOT AVAILABLE\n",
            "  \u001b[31m   \u001b[0m \n",
            "  \u001b[31m   \u001b[0m /tmp/pip-build-env-k3wxnyof/overlay/lib/python3.9/site-packages/numpy/distutils/system_info.py:1712: UserWarning:\n",
            "  \u001b[31m   \u001b[0m     Lapack (http://www.netlib.org/lapack/) sources not found.\n",
            "  \u001b[31m   \u001b[0m     Directories to search for the sources can be specified in the\n",
            "  \u001b[31m   \u001b[0m     numpy/distutils/site.cfg file (section [lapack_src]) or by setting\n",
            "  \u001b[31m   \u001b[0m     the LAPACK_SRC environment variable.\n",
            "  \u001b[31m   \u001b[0m   if getattr(self, '_calc_info_{}'.format(lapack))():\n",
            "  \u001b[31m   \u001b[0m   NOT AVAILABLE\n",
            "  \u001b[31m   \u001b[0m \n",
            "  \u001b[31m   \u001b[0m Traceback (most recent call last):\n",
            "  \u001b[31m   \u001b[0m   File \"/home/data/yyc/.conda/envs/apenv/lib/python3.9/site-packages/pip/_vendor/pep517/in_process/_in_process.py\", line 351, in <module>\n",
            "  \u001b[31m   \u001b[0m     main()\n",
            "  \u001b[31m   \u001b[0m   File \"/home/data/yyc/.conda/envs/apenv/lib/python3.9/site-packages/pip/_vendor/pep517/in_process/_in_process.py\", line 333, in main\n",
            "  \u001b[31m   \u001b[0m     json_out['return_val'] = hook(**hook_input['kwargs'])\n",
            "  \u001b[31m   \u001b[0m   File \"/home/data/yyc/.conda/envs/apenv/lib/python3.9/site-packages/pip/_vendor/pep517/in_process/_in_process.py\", line 152, in prepare_metadata_for_build_wheel\n",
            "  \u001b[31m   \u001b[0m     return hook(metadata_directory, config_settings)\n",
            "  \u001b[31m   \u001b[0m   File \"/tmp/pip-build-env-k3wxnyof/overlay/lib/python3.9/site-packages/setuptools/build_meta.py\", line 377, in prepare_metadata_for_build_wheel\n",
            "  \u001b[31m   \u001b[0m     self.run_setup()\n",
            "  \u001b[31m   \u001b[0m   File \"/tmp/pip-build-env-k3wxnyof/overlay/lib/python3.9/site-packages/setuptools/build_meta.py\", line 484, in run_setup\n",
            "  \u001b[31m   \u001b[0m     super(_BuildMetaLegacyBackend,\n",
            "  \u001b[31m   \u001b[0m   File \"/tmp/pip-build-env-k3wxnyof/overlay/lib/python3.9/site-packages/setuptools/build_meta.py\", line 335, in run_setup\n",
            "  \u001b[31m   \u001b[0m     exec(code, locals())\n",
            "  \u001b[31m   \u001b[0m   File \"<string>\", line 540, in <module>\n",
            "  \u001b[31m   \u001b[0m   File \"<string>\", line 536, in setup_package\n",
            "  \u001b[31m   \u001b[0m   File \"/tmp/pip-build-env-k3wxnyof/overlay/lib/python3.9/site-packages/numpy/distutils/core.py\", line 137, in setup\n",
            "  \u001b[31m   \u001b[0m     config = configuration()\n",
            "  \u001b[31m   \u001b[0m   File \"<string>\", line 435, in configuration\n",
            "  \u001b[31m   \u001b[0m numpy.distutils.system_info.NotFoundError: No lapack/blas resources found.\n",
            "  \u001b[31m   \u001b[0m \u001b[31m[end of output]\u001b[0m\n",
            "  \n",
            "  \u001b[1;35mnote\u001b[0m: This error originates from a subprocess, and is likely not a problem with pip.\n",
            "\u001b[?25h\u001b[1;31merror\u001b[0m: \u001b[1mmetadata-generation-failed\u001b[0m\n",
            "\n",
            "\u001b[31m×\u001b[0m Encountered error while generating package metadata.\n",
            "\u001b[31m╰─>\u001b[0m See above for output.\n",
            "\n",
            "\u001b[1;35mnote\u001b[0m: This is an issue with the package mentioned above, not pip.\n",
            "\u001b[1;36mhint\u001b[0m: See above for details.\n",
            "Looking in indexes: https://pypi.tuna.tsinghua.edu.cn/simple\n",
            "Requirement already satisfied: six in /home/data/yyc/.conda/envs/apenv/lib/python3.9/site-packages (1.16.0)\n",
            "Looking in indexes: https://pypi.tuna.tsinghua.edu.cn/simple\n",
            "Collecting tensorboardX==1.6\n",
            "  Using cached https://pypi.tuna.tsinghua.edu.cn/packages/5c/76/89dd44458eb976347e5a6e75eb79fecf8facd46c1ce259bad54e0044ea35/tensorboardX-1.6-py2.py3-none-any.whl (129 kB)\n",
            "Requirement already satisfied: six in /home/data/yyc/.conda/envs/apenv/lib/python3.9/site-packages (from tensorboardX==1.6) (1.16.0)\n",
            "Requirement already satisfied: numpy in /home/data/yyc/.conda/envs/apenv/lib/python3.9/site-packages (from tensorboardX==1.6) (1.24.1)\n",
            "Requirement already satisfied: protobuf>=3.2.0 in /home/data/yyc/.conda/envs/apenv/lib/python3.9/site-packages (from tensorboardX==1.6) (3.15.6)\n",
            "Installing collected packages: tensorboardX\n",
            "Successfully installed tensorboardX-1.6\n",
            "Looking in indexes: https://pypi.tuna.tsinghua.edu.cn/simple\n",
            "Collecting torch\n",
            "  Downloading https://pypi.tuna.tsinghua.edu.cn/packages/25/09/184125ce54b2d7e665f3b674a1ac5d96b442f00dd11804490e926231e36b/torch-1.13.1-cp39-cp39-manylinux1_x86_64.whl (887.4 MB)\n",
            "\u001b[2K     \u001b[91m━━━━━━━━━━━━━━━\u001b[0m\u001b[90m╺\u001b[0m\u001b[90m━━━━━━━━━━━━━━━━━━━━━\u001b[0m \u001b[32m362.9/887.4 MB\u001b[0m \u001b[31m586.6 kB/s\u001b[0m eta \u001b[36m0:14:55\u001b[0m"
          ]
        }
      ],
      "source": [
        "%pip install certifi==2020.12.5\n",
        "%pip install cffi==1.14.0\n",
        "%pip install cycler==0.10.0\n",
        "%pip install kiwisolver==1.3.1\n",
        "%pip install matplotlib==3.1.3\n",
        "%pip install mkl-fft==1.3.0\n",
        "%pip install mkl-random==1.1.1\n",
        "%pip install mkl-service==2.3.0\n",
        "%pip install nbconvert==5.6.1\n",
        "%pip install numpy \n",
        "%pip install olefile==0.46\n",
        "%pip install Pillow \n",
        "%pip install protobuf==3.15.6\n",
        "%pip install pycparser \n",
        "%pip install pyparsing==2.4.7\n",
        "%pip install python-dateutil==2.8.1\n",
        "%pip install scipy==1.4.1\n",
        "%pip install six \n",
        "%pip install tensorboardX==1.6\n",
        "%pip install torch\n",
        "%pip install torchgeometry==0.1.2\n",
        "%pip install torchvision==0.2.2"
      ]
    },
    {
      "cell_type": "code",
      "execution_count": null,
      "metadata": {
        "colab": {
          "base_uri": "https://localhost:8080/",
          "height": 1000
        },
        "id": "SGJ-DPf5SrJG",
        "outputId": "fa53dc6f-34b6-4e02-ab5a-fb462a2ddae5"
      },
      "outputs": [],
      "source": [
        "import sys\n",
        "import torch\n",
        "version_str=\"\".join([\n",
        "    f\"py3{sys.version_info.minor}_cu\",\n",
        "    torch.version.cuda.replace(\".\",\"\"),\n",
        "    f\"_pyt{torch.__version__[0:5:2]}\"\n",
        "])\n",
        "%pip install pytorch3d -f https://dl.fbaipublicfiles.com/pytorch3d/packaging/wheels/{version_str}/download.html"
      ]
    },
    {
      "attachments": {},
      "cell_type": "markdown",
      "metadata": {
        "id": "-hFL4HUhV2tI"
      },
      "source": [
        "# 下载数据\n",
        "\n",
        "实验室服务器连不到google，需要手动下载后上传"
      ]
    },
    {
      "cell_type": "code",
      "execution_count": null,
      "metadata": {
        "id": "_1SEly7kV27E"
      },
      "outputs": [],
      "source": [
        "#%cd /TO/AdaptPose/ \n",
        "!ls\n",
        "%cd data\n",
        "## download data\n",
        "!gdown --id 1_cJ2vG5wxRQUtWavz47XAwaMvU9pQB_X\n",
        "!gdown --id 1NX9dT1nKX-8t_eZR3vnfrdyOegG7pDBs\n",
        "!gdown --id 1v3-LDnjlHT8OJi40E7OKDBGY7dWM9P2n\n",
        "!gdown --id 12voJG5DBFy_2xT3lNdLYA4ZCTYjs7Iyv\n",
        "!gdown --id 1Y96GlQOEkc2Gx6V4FpvTwCyJjrUX3FYu\n",
        "!gdown --id 1vL53iJ1mWao3TKK3p52ZX_jdF5d5EBtl\n",
        "!gdown --id 1EbVV-nzrrQ2KdT_GG4JPwv1A7EOnFka1\n",
        "## download pretrained models\n",
        "%cd ..\n",
        "%cd checkpoint/adaptpose/videopose/gt/3dhp/\n",
        "!gdown --id 11QJf-B5D1_aqsMR3v-9rrfht4W7ErC4k\n",
        "%cd ../../../../..\n",
        "%cd checkpoint/adaptpose/videopose/gt/3dpw/\n",
        "!gdown --id 1LUi1OQ7vWQ5KXJ9HlSvtveiOEacG1WoS\n",
        "%cd ../../../../..\n",
        "%cd checkpoint/adaptpose/videopose/gt/skii/\n",
        "!gdown --id 1b1_A7SuBdGaPNXzsx2qLOg0_RqIuk6Cx\n",
        "%cd ../../../../..\n",
        "%cd checkpoint/pretrain_baseline/videopose/gt/3dhp/\n",
        "!gdown --id 1SmSXrk_LcpsXBpBEsSp0zq9qIpb4aJBU\n",
        "%cd ../../../../.."
      ]
    },
    {
      "cell_type": "markdown",
      "metadata": {
        "id": "M_gEjI73LAES"
      },
      "source": [
        "# **Experiments:**"
      ]
    },
    {
      "cell_type": "markdown",
      "metadata": {
        "id": "TIoGNrmTbr5G"
      },
      "source": [
        "**1. Cross-dataset Evaluation of Pretrained Model on 3DHP dataset**\n",
        "\n",
        "\n"
      ]
    },
    {
      "cell_type": "code",
      "execution_count": null,
      "metadata": {
        "colab": {
          "base_uri": "https://localhost:8080/"
        },
        "id": "rWHxp3hWcMfH",
        "outputId": "a0a14ce3-9cfc-4512-9065-35aec3f42efe"
      },
      "outputs": [],
      "source": [
        "!python3  run_evaluate.py --posenet_name 'videopose' --keypoints gt --evaluate  'checkpoint/adaptpose/videopose/gt/3dhp/ckpt_best_dhp_p1.pth.tar' --dataset_target 3dhp --keypoints_target 'gt' --pad 13  --pretrain_path  'checkpoint/pretrain_baseline/videopose/gt/3dhp/ckpt_best.pth.tar'"
      ]
    },
    {
      "cell_type": "markdown",
      "metadata": {
        "id": "pD7B0vxNcUd9"
      },
      "source": [
        "**2. Cross-dataset Evaluation of Pretrained Model on 3DPW dataset**"
      ]
    },
    {
      "cell_type": "code",
      "execution_count": null,
      "metadata": {
        "colab": {
          "base_uri": "https://localhost:8080/"
        },
        "id": "RfxWubT6cY5Y",
        "outputId": "2ae3f1a6-4b3d-4b6e-9225-c1c91120dd3e"
      },
      "outputs": [],
      "source": [
        "!python3  run_evaluate.py --posenet_name 'videopose' --keypoints gt --evaluate  'checkpoint/adaptpose/videopose/gt/3dpw/ckpt_best_dhp_p1.pth.tar' --dataset_target 3dpw --keypoints_target 'gt' --pad 13  --pretrain_path  'checkpoint/pretrain_baseline/videopose/gt/3dpw/ckpt_best.pth.tar'"
      ]
    },
    {
      "cell_type": "markdown",
      "metadata": {
        "id": "gE8hENgkWhvt"
      },
      "source": [
        "**3. Cross-dataset Training for 3DHP**"
      ]
    },
    {
      "cell_type": "code",
      "execution_count": null,
      "metadata": {
        "id": "Cb3ckdkanDJ1"
      },
      "outputs": [],
      "source": [
        "!python3 run_adaptpose.py --note poseaug --posenet_name 'videopose' --lr_p 1e-4 --checkpoint './checkpoint/adaptpose' --keypoints gt --keypoints_target gt --dataset_target '3dhp'  --pretrain_path './checkpoint/pretrain_baseline/videopose/gt/3dhp/ckpt_best.pth.tar'  --pad 13 "
      ]
    },
    {
      "cell_type": "markdown",
      "metadata": {
        "id": "RAGIz3qbJRqb"
      },
      "source": [
        "**2.Cross-dataset Evaluation for 3DPW**"
      ]
    },
    {
      "cell_type": "code",
      "execution_count": null,
      "metadata": {
        "id": "kMK7xXrUJv_I"
      },
      "outputs": [],
      "source": [
        "!python3 run_adaptpose.py --note poseaug --posenet_name 'videopose' --lr_p 1e-4 --checkpoint './checkpoint/adaptpose' --keypoints gt --keypoints_target gt --dataset_target '3dpw'  --pretrain_path './checkpoint/pretrain_baseline/videopose/gt/3dhp/ckpt_best.pth.tar'  --pad 13 "
      ]
    }
  ],
  "metadata": {
    "accelerator": "GPU",
    "colab": {
      "authorship_tag": "ABX9TyOlyqap6yX3jY+F0YChyyZZ",
      "collapsed_sections": [],
      "include_colab_link": true,
      "machine_shape": "hm",
      "name": "AdaptPose.ipynb",
      "provenance": []
    },
    "kernelspec": {
      "display_name": "apenv",
      "language": "python",
      "name": "python3"
    },
    "language_info": {
      "codemirror_mode": {
        "name": "ipython",
        "version": 3
      },
      "file_extension": ".py",
      "mimetype": "text/x-python",
      "name": "python",
      "nbconvert_exporter": "python",
      "pygments_lexer": "ipython3",
      "version": "3.9.0"
    },
    "vscode": {
      "interpreter": {
        "hash": "20e344a3cea68bd6cea1e0130409a27a904988cc8ac4b66eee0b58e9421da444"
      }
    }
  },
  "nbformat": 4,
  "nbformat_minor": 0
}
