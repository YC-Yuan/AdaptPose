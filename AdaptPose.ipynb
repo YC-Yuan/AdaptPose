{
  "cells": [
    {
      "cell_type": "markdown",
      "metadata": {
        "colab_type": "text",
        "id": "view-in-github"
      },
      "source": [
        "<a href=\"https://colab.research.google.com/github/mgholamikn/AdaptPose/blob/main/AdaptPose.ipynb\" target=\"_parent\"><img src=\"https://colab.research.google.com/assets/colab-badge.svg\" alt=\"Open In Colab\"/></a>"
      ]
    },
    {
      "cell_type": "markdown",
      "metadata": {
        "id": "Xtvy95RHLbrd"
      },
      "source": [
        "# **AdaptPose: Cross-dataset Adaptation of 3D Human Pose Estimation by Learnable Motion Generator**"
      ]
    },
    {
      "cell_type": "markdown",
      "metadata": {
        "id": "6hfK6GfCJ5r4"
      },
      "source": [
        "Here we provide the following experiments: \n",
        "\n",
        "1.   Cross-dataset evaluation on 3DHP: source H3.6M, target: 3DHP\n",
        "2.   Cross-dataset evaluation on 3DPW: source H3.6M, target: 3DPW\n",
        "3.   Cross-dataset trainin on 3DHP: source H3.6M, target: 3DHP\n",
        "4.   Cross-dataset trainin on 3DPW: source H3.6M, target: 3DPW\n"
      ]
    },
    {
      "attachments": {},
      "cell_type": "markdown",
      "metadata": {
        "id": "1SLaOn0PIfmT"
      },
      "source": [
        "# Install Dependencies\n",
        "\n",
        "请用python3.8环境，以确保能找到对应pytorch"
      ]
    },
    {
      "cell_type": "code",
      "execution_count": 27,
      "metadata": {},
      "outputs": [
        {
          "name": "stdout",
          "output_type": "stream",
          "text": [
            "Looking in indexes: https://pypi.tuna.tsinghua.edu.cn/simple\n",
            "Collecting PyQt5\n",
            "  Downloading https://pypi.tuna.tsinghua.edu.cn/packages/36/66/19983d471c702e551a19a7225a92a7c1efadd961f6c650110ed906dd0ed7/PyQt5-5.15.6-cp36-abi3-manylinux1_x86_64.whl (8.3 MB)\n",
            "\u001b[K     |████████████████████████████████| 8.3 MB 133 kB/s  eta 0:00:01\n",
            "\u001b[?25hCollecting PyQt5-Qt5>=5.15.2\n",
            "  Using cached https://pypi.tuna.tsinghua.edu.cn/packages/83/d4/241a6a518d0bcf0a9fcdcbad5edfed18d43e884317eab8d5230a2b27e206/PyQt5_Qt5-5.15.2-py3-none-manylinux2014_x86_64.whl (59.9 MB)\n",
            "Collecting PyQt5-sip<13,>=12.8\n",
            "  Downloading https://pypi.tuna.tsinghua.edu.cn/packages/4c/70/3496cecc443bb31f7d613ab3c4536eb02aef0829f4e178a53e4e26092568/PyQt5_sip-12.9.1-cp36-cp36m-manylinux1_x86_64.whl (334 kB)\n",
            "\u001b[K     |████████████████████████████████| 334 kB 13.3 MB/s eta 0:00:01\n",
            "\u001b[?25hInstalling collected packages: PyQt5-sip, PyQt5-Qt5, PyQt5\n",
            "Successfully installed PyQt5-5.15.6 PyQt5-Qt5-5.15.2 PyQt5-sip-12.9.1\n",
            "Note: you may need to restart the kernel to use updated packages.\n"
          ]
        }
      ],
      "source": [
        "# 临时补充\n",
        "# %pip install pexpect\n",
        "# %pip install psutil\n",
        "%pip install PyQt5\n",
        "# %pip install distutils"
      ]
    },
    {
      "cell_type": "code",
      "execution_count": null,
      "metadata": {
        "colab": {
          "base_uri": "https://localhost:8080/"
        },
        "id": "WePRpLEMZK-O",
        "outputId": "10a5d497-3fe3-4b21-db75-739552ef07d0"
      },
      "outputs": [],
      "source": [
        "%pip install certifi==2020.12.5\n",
        "%pip install cffi==1.14.0\n",
        "%pip install cycler==0.10.0\n",
        "%pip install kiwisolver==1.3.1\n",
        "%pip install matplotlib==3.1.3\n",
        "# %pip install mkl-fft==1.3.0\n",
        "# pip上只有很老的版本，需要conda安装\n",
        "%conda install -c intel mkl_fft==1.3.0\n",
        "%pip install mkl-random==1.1.1\n",
        "%pip install mkl-service==2.3.0\n",
        "%pip install nbconvert==5.6.1\n",
        "%pip install numpy \n",
        "%pip install olefile==0.46\n",
        "%pip install Pillow \n",
        "%pip install protobuf==3.15.6\n",
        "%pip install pycparser \n",
        "%pip install pyparsing==2.4.7\n",
        "%pip install python-dateutil==2.8.1\n",
        "%pip install scipy==1.4.1\n",
        "%pip install six \n",
        "%pip install tensorboardX==1.6\n",
        "# %pip install torch\n",
        "%conda install pytorch torchvision pytorch-cuda=11.6 -c pytorch -c nvidia\n",
        "%pip install torchgeometry==0.1.2\n",
        "# %pip install torchvision==0.2.2"
      ]
    },
    {
      "attachments": {},
      "cell_type": "markdown",
      "metadata": {},
      "source": [
        "## Pytorch安装"
      ]
    },
    {
      "cell_type": "code",
      "execution_count": 18,
      "metadata": {
        "colab": {
          "base_uri": "https://localhost:8080/",
          "height": 1000
        },
        "id": "SGJ-DPf5SrJG",
        "outputId": "fa53dc6f-34b6-4e02-ab5a-fb462a2ddae5"
      },
      "outputs": [
        {
          "name": "stdout",
          "output_type": "stream",
          "text": [
            "Looking in indexes: https://pypi.tuna.tsinghua.edu.cn/simple\n",
            "Looking in links: https://dl.fbaipublicfiles.com/pytorch3d/packaging/wheels/py36_cu102_pyt11./download.html\n",
            "Requirement already satisfied: pytorch3d in /home/data/yyc/.conda/envs/ap/lib/python3.6/site-packages (0.3.0)\n",
            "Requirement already satisfied: fvcore in /home/data/yyc/.conda/envs/ap/lib/python3.6/site-packages (from pytorch3d) (0.1.5.post20221221)\n",
            "Requirement already satisfied: torchvision>=0.4 in /home/data/yyc/.conda/envs/ap/lib/python3.6/site-packages (from pytorch3d) (0.11.3)\n",
            "Requirement already satisfied: numpy in /home/data/yyc/.conda/envs/ap/lib/python3.6/site-packages (from torchvision>=0.4->pytorch3d) (1.19.5)\n",
            "Requirement already satisfied: torch in /home/data/yyc/.conda/envs/ap/lib/python3.6/site-packages (from torchvision>=0.4->pytorch3d) (1.10.2)\n",
            "Requirement already satisfied: pillow!=8.3.0,>=5.3.0 in /home/data/yyc/.conda/envs/ap/lib/python3.6/site-packages (from torchvision>=0.4->pytorch3d) (8.4.0)\n",
            "Requirement already satisfied: tqdm in /home/data/yyc/.conda/envs/ap/lib/python3.6/site-packages (from fvcore->pytorch3d) (4.19.9)\n",
            "Requirement already satisfied: termcolor>=1.1 in /home/data/yyc/.conda/envs/ap/lib/python3.6/site-packages (from fvcore->pytorch3d) (1.1.0)\n",
            "Requirement already satisfied: yacs>=0.1.6 in /home/data/yyc/.conda/envs/ap/lib/python3.6/site-packages (from fvcore->pytorch3d) (0.1.8)\n",
            "Requirement already satisfied: tabulate in /home/data/yyc/.conda/envs/ap/lib/python3.6/site-packages (from fvcore->pytorch3d) (0.8.10)\n",
            "Requirement already satisfied: pyyaml>=5.1 in /home/data/yyc/.conda/envs/ap/lib/python3.6/site-packages (from fvcore->pytorch3d) (6.0)\n",
            "Requirement already satisfied: dataclasses in /home/data/yyc/.conda/envs/ap/lib/python3.6/site-packages (from fvcore->pytorch3d) (0.8)\n",
            "Requirement already satisfied: iopath>=0.1.7 in /home/data/yyc/.conda/envs/ap/lib/python3.6/site-packages (from fvcore->pytorch3d) (0.1.10)\n",
            "Requirement already satisfied: portalocker in /home/data/yyc/.conda/envs/ap/lib/python3.6/site-packages (from iopath>=0.1.7->fvcore->pytorch3d) (2.6.0)\n",
            "Requirement already satisfied: typing-extensions in /home/data/yyc/.conda/envs/ap/lib/python3.6/site-packages (from iopath>=0.1.7->fvcore->pytorch3d) (4.1.1)\n",
            "Note: you may need to restart the kernel to use updated packages.\n"
          ]
        }
      ],
      "source": [
        "import sys\n",
        "import torch\n",
        "version_str=\"\".join([\n",
        "    f\"py3{sys.version_info.minor}_cu\",\n",
        "    torch.version.cuda.replace(\".\",\"\"),\n",
        "    f\"_pyt{torch.__version__[0:5:2]}\"\n",
        "])\n",
        "%pip install pytorch3d -f https://dl.fbaipublicfiles.com/pytorch3d/packaging/wheels/{version_str}/download.html"
      ]
    },
    {
      "attachments": {},
      "cell_type": "markdown",
      "metadata": {
        "id": "-hFL4HUhV2tI"
      },
      "source": [
        "# 下载数据\n",
        "\n",
        "实验室服务器连不到google，需要手动下载后上传"
      ]
    },
    {
      "cell_type": "code",
      "execution_count": null,
      "metadata": {
        "id": "_1SEly7kV27E"
      },
      "outputs": [],
      "source": [
        "# #%cd /TO/AdaptPose/ \n",
        "# !ls\n",
        "# %cd data\n",
        "# ## download data\n",
        "# !gdown --id 1_cJ2vG5wxRQUtWavz47XAwaMvU9pQB_X\n",
        "# !gdown --id 1NX9dT1nKX-8t_eZR3vnfrdyOegG7pDBs\n",
        "# !gdown --id 1v3-LDnjlHT8OJi40E7OKDBGY7dWM9P2n\n",
        "# !gdown --id 12voJG5DBFy_2xT3lNdLYA4ZCTYjs7Iyv\n",
        "# !gdown --id 1Y96GlQOEkc2Gx6V4FpvTwCyJjrUX3FYu\n",
        "# !gdown --id 1vL53iJ1mWao3TKK3p52ZX_jdF5d5EBtl\n",
        "# !gdown --id 1EbVV-nzrrQ2KdT_GG4JPwv1A7EOnFka1\n",
        "# ## download pretrained models\n",
        "# %cd ..\n",
        "# %cd checkpoint/adaptpose/videopose/gt/3dhp/\n",
        "# !gdown --id 11QJf-B5D1_aqsMR3v-9rrfht4W7ErC4k\n",
        "# %cd ../../../../..\n",
        "# %cd checkpoint/adaptpose/videopose/gt/3dpw/\n",
        "# !gdown --id 1LUi1OQ7vWQ5KXJ9HlSvtveiOEacG1WoS\n",
        "# %cd ../../../../..\n",
        "# %cd checkpoint/adaptpose/videopose/gt/skii/\n",
        "# !gdown --id 1b1_A7SuBdGaPNXzsx2qLOg0_RqIuk6Cx\n",
        "# %cd ../../../../..\n",
        "# %cd checkpoint/pretrain_baseline/videopose/gt/3dhp/\n",
        "# !gdown --id 1SmSXrk_LcpsXBpBEsSp0zq9qIpb4aJBU\n",
        "# %cd ../../../../.."
      ]
    },
    {
      "attachments": {},
      "cell_type": "markdown",
      "metadata": {
        "id": "M_gEjI73LAES"
      },
      "source": [
        "# Experiments"
      ]
    },
    {
      "attachments": {},
      "cell_type": "markdown",
      "metadata": {
        "id": "TIoGNrmTbr5G"
      },
      "source": [
        "## 1. Cross-dataset Evaluation of Pretrained Model on 3DHP dataset\n",
        "\n",
        "\n"
      ]
    },
    {
      "cell_type": "code",
      "execution_count": null,
      "metadata": {
        "colab": {
          "base_uri": "https://localhost:8080/"
        },
        "id": "rWHxp3hWcMfH",
        "outputId": "a0a14ce3-9cfc-4512-9065-35aec3f42efe"
      },
      "outputs": [],
      "source": [
        "!python3  run_evaluate.py --posenet_name 'videopose' --keypoints gt --evaluate  'checkpoint/adaptpose/videopose/gt/3dhp/ckpt_best_dhp_p1.pth.tar' --dataset_target 3dhp --keypoints_target 'gt' --pad 13  --pretrain_path  'checkpoint/pretrain_baseline/videopose/gt/3dhp/ckpt_best.pth.tar'"
      ]
    },
    {
      "attachments": {},
      "cell_type": "markdown",
      "metadata": {
        "id": "pD7B0vxNcUd9"
      },
      "source": [
        "## 2. Cross-dataset Evaluation of Pretrained Model on 3DPW dataset"
      ]
    },
    {
      "cell_type": "code",
      "execution_count": null,
      "metadata": {
        "colab": {
          "base_uri": "https://localhost:8080/"
        },
        "id": "RfxWubT6cY5Y",
        "outputId": "2ae3f1a6-4b3d-4b6e-9225-c1c91120dd3e"
      },
      "outputs": [],
      "source": [
        "!python3  run_evaluate.py --posenet_name 'videopose' --keypoints gt --evaluate  'checkpoint/adaptpose/videopose/gt/3dpw/ckpt_best_dhp_p1.pth.tar' --dataset_target 3dpw --keypoints_target 'gt' --pad 13  --pretrain_path  'checkpoint/pretrain_baseline/videopose/gt/3dpw/ckpt_best.pth.tar'"
      ]
    },
    {
      "attachments": {},
      "cell_type": "markdown",
      "metadata": {
        "id": "gE8hENgkWhvt"
      },
      "source": [
        "## 3. Cross-dataset Training for 3DHP"
      ]
    },
    {
      "cell_type": "code",
      "execution_count": null,
      "metadata": {},
      "outputs": [],
      "source": [
        "import matplotlib\n",
        "matplotlib.rcsetup.interactive_bk # 获取 interactive backend\n",
        "matplotlib.rcsetup.non_interactive_bk # 获取 non-interactive backend\n",
        "matplotlib.rcsetup.all_backends # 获取 所有 backend\n"
      ]
    },
    {
      "cell_type": "code",
      "execution_count": 37,
      "metadata": {
        "id": "Cb3ckdkanDJ1"
      },
      "outputs": [
        {
          "name": "stdout",
          "output_type": "stream",
          "text": [
            "==> Using settings Namespace(actions='*', ba_range_m=0.205, ba_range_w=0.165, batch_size=1024, blr_limit=0.1, blr_tanhlimit=0.2, checkpoint='./checkpoint/adaptpose', dataset='h36m', dataset_target='3dhp', decay_epoch=0, df=2, downsample=1, dropout=0.25, epochs=50, evaluate='', gloss_factorblr=1, gloss_factord2d=1, gloss_factord2d_temp=1, gloss_factord3d=6, gloss_factordiff=3, gloss_factordiv_ba=0.0, gloss_factordiv_rt=0.0, gloss_factorfeedback=0.001, gloss_factorfeedback_ba=0.1, gloss_factorfeedback_rt=0.01, hardratio_ba=5, hardratio_ba_s=3, hardratio_rt=17, hardratio_rt_s=17, hardratio_std_ba=2, hardratio_std_rt=15, keypoints='gt', keypoints_target='gt', lr_d=0.0001, lr_g=0.0001, lr_p=0.0001, max_norm=True, note='poseaug', num_workers=2, pad=13, posenet_name='videopose', pretrain=True, pretrain_path='./checkpoint/pretrain_baseline/videopose/gt/3dhp/ckpt_best.pth.tar', random_seed=0, resume='', s1only=False, snapshot=2, stages=4, warmup=2)\n",
            "==> Loading dataset...\n",
            "==> Loading 3D data...\n",
            "==> Loading 2D detections...\n",
            "Generating 1559752 poses...\n",
            "Generating 543344 poses...\n",
            "target_shape (1666994, 16, 2)\n",
            "Generating 1666994 poses...\n",
            "Generating 1559752 poses...\n",
            "Generating 1842302 poses...\n",
            "TS1\n",
            "TS2\n",
            "TS3\n",
            "TS4\n",
            "TS5\n",
            "TS6\n",
            "test_shape (24688, 16, 3)\n",
            "Generating 24688 poses...\n",
            "==> Creating PoseNet model...\n",
            "create model: videopose\n",
            "==> Total parameters for model videopose: 8.54M\n",
            "==> Pretrained posenet loaded\n",
            "create model: videopose\n",
            "==> Total parameters for model videopose: 8.54M\n",
            "==> Pretrained posenet loaded\n",
            "==> Creating PoseAug model...\n",
            "==> Creating model...\n",
            "==> Total parameters: 1.18M\n",
            "==> Total parameters: 1.08M\n",
            "==> Total parameters: 0.04M\n",
            "==> Total parameters: 0.82M\n",
            "==> Making checkpoint dir: ./checkpoint/adaptpose/videopose/gt/2023-01-13T15:05:28.121147_poseaug\n",
            "\u001b[KEval posenet on H36M_test |################################| (531/531) Data: 0.012420s | Batch: 0.059s | Total: 0:00:31 | ETA: 0:00:01 | MPJPE:  41.4052 | P-MPJPE:  30.6925 | N-MPJPE:  38.0633Eval posenet on H36M_test |##############                  | (238/531) Data: 0.013669s | Batch: 0.066s | Total: 0:00:15 | ETA: 0:00:12 | MPJPE:  41.4353 | P-MPJPE:  31.7943 | N-MPJPE:  39.5965Eval posenet on H36M_test |##############                  | (241/531) Data: 0.013570s | Batch: 0.065s | Total: 0:00:15 | ETA: 0:00:11 | MPJPE:  41.4402 | P-MPJPE:  31.7640 | N-MPJPE:  39.6136Eval posenet on H36M_test |###########################     | (456/531) Data: 0.012374s | Batch: 0.060s | Total: 0:00:27 | ETA: 0:00:05 | MPJPE:  41.3161 | P-MPJPE:  30.9401 | N-MPJPE:  38.3210\n",
            "\u001b[KEval posenet on mpi3d_loader |################################| (25/25) Data: 0.025085s | Batch: 0.094s | Total: 0:00:02 | ETA: 0:00:01 | MPJPE:  96.4169 | P-MPJPE:  66.4824 | N-MPJPE:  89.2948\n",
            "\u001b[KEval posenet on H36M_test |################################| (531/531) Data: 0.013215s | Batch: 0.060s | Total: 0:00:31 | ETA: 0:00:01 | MPJPE:  41.4064 | P-MPJPE:  30.6933 | N-MPJPE:  38.0641Eval posenet on H36M_test |##########                      | (174/531) Data: 0.014858s | Batch: 0.058s | Total: 0:00:10 | ETA: 0:00:23 | MPJPE:  41.2003 | P-MPJPE:  31.5307 | N-MPJPE:  39.2659Eval posenet on H36M_test |#######################         | (398/531) Data: 0.012869s | Batch: 0.058s | Total: 0:00:23 | ETA: 0:00:12 | MPJPE:  41.0646 | P-MPJPE:  30.9488 | N-MPJPE:  38.3708Eval posenet on H36M_test |##############################  | (512/531) Data: 0.013126s | Batch: 0.059s | Total: 0:00:30 | ETA: 0:00:02 | MPJPE:  41.1966 | P-MPJPE:  30.5538 | N-MPJPE:  37.9207\n",
            "\u001b[KEval posenet on mpi3d_loader |################################| (25/25) Data: 0.023613s | Batch: 0.088s | Total: 0:00:02 | ETA: 0:00:01 | MPJPE:  96.4169 | P-MPJPE:  66.4824 | N-MPJPE:  89.2948\n",
            "\u001b[KTrain pose gan |######                          | (301/1524) Data: 0.024530s | Batch: 0.261s | Total: 0:01:18 | ETA: 0:05:01 Train pose gan |##                              | (122/1524) Data: 0.035440s | Batch: 0.275s | Total: 0:00:33 | ETA: 0:06:34 Train pose gan |####                            | (208/1524) Data: 0.028642s | Batch: 0.269s | Total: 0:00:55 | ETA: 0:06:21 \n",
            "\n",
            "prepare buffer loader for train on fake pose\n",
            "(127257, 27, 16, 3)\n",
            "Generating 127257 poses...\n",
            "\u001b[KTrain pose gan |######                          | (601/1524) Data: 0.074220s | Batch: 0.314s | Total: 0:01:34 | ETA: 0:06:00 0 Train pose gan |#                               | (348/1524) Data: 0.338667s | Batch: 0.586s | Total: 0:00:28 | ETA: 0:05:47 Train pose gan |##                              | (400/1524) Data: 0.177883s | Batch: 0.421s | Total: 0:00:42 | ETA: 0:07:15 \n",
            "\n",
            "prepare buffer loader for train on fake pose\n",
            "(277015, 27, 16, 3)\n",
            "Generating 277015 poses...\n",
            "\u001b[KTrain pose gan |######                          | (901/1524) Data: 0.120387s | Batch: 0.358s | Total: 0:01:47 | ETA: 0:04:51 56 \n",
            "\n",
            "prepare buffer loader for train on fake pose\n",
            "(287173, 27, 16, 3)\n",
            "Generating 287173 poses...\n",
            "\u001b[KTrain pose gan |######                          | (1201/1524) Data: 0.167700s | Batch: 0.412s | Total: 0:02:03 | ETA: 0:05:21   \n",
            "\n",
            "prepare buffer loader for train on fake pose\n",
            "(288903, 27, 16, 3)\n",
            "Generating 288903 poses...\n",
            "\u001b[KTrain pose gan |######                          | (1501/1524) Data: 0.210667s | Batch: 0.446s | Total: 0:02:14 | ETA: 0:05:18 3  \n",
            "\n",
            "prepare buffer loader for train on fake pose\n",
            "(288665, 27, 16, 3)\n",
            "Generating 288665 poses...\n",
            "\u001b[?25h/home/data/yyc/.conda/envs/ap/lib/python3.6/site-packages/torch/optim/lr_scheduler.py:134: UserWarning: Detected call of `lr_scheduler.step()` before `optimizer.step()`. In PyTorch 1.1.0 and later, you should call them in the opposite order: `optimizer.step()` before `lr_scheduler.step()`.  Failure to do this will result in PyTorch skipping the first value of the learning rate schedule. See more details at https://pytorch.org/docs/stable/optim.html#how-to-adjust-learning-rate\n",
            "  \"https://pytorch.org/docs/stable/optim.html#how-to-adjust-learning-rate\", UserWarning)\n",
            "\n",
            "Epoch: 1 | LR: 0.00009804\n",
            "\u001b[KTrain pose gan |######                          | (301/1524) Data: 0.040116s | Batch: 0.281s | Total: 0:01:24 | ETA: 0:05:06 Train pose gan |###                             | (148/1524) Data: 0.052709s | Batch: 0.297s | Total: 0:00:44 | ETA: 0:05:55 Train pose gan |###                             | (189/1524) Data: 0.047377s | Batch: 0.289s | Total: 0:00:54 | ETA: 0:05:39 Train pose gan |####                            | (236/1524) Data: 0.044240s | Batch: 0.286s | Total: 0:01:07 | ETA: 0:06:01 \n",
            "\n",
            "prepare buffer loader for train on fake pose\n",
            "(290648, 27, 16, 3)\n",
            "Generating 290648 poses...\n",
            "\u001b[KTrain pose gan |######                          | (601/1524) Data: 0.082317s | Batch: 0.326s | Total: 0:01:38 | ETA: 0:05:29 0 \n",
            "\n",
            "prepare buffer loader for train on fake pose\n",
            "(289724, 27, 16, 3)\n",
            "Generating 289724 poses...\n",
            "\u001b[KTrain pose gan |######                          | (901/1524) Data: 0.121673s | Batch: 0.358s | Total: 0:01:47 | ETA: 0:05:39 28 \n",
            "\n",
            "prepare buffer loader for train on fake pose\n",
            "(292739, 27, 16, 3)\n",
            "Generating 292739 poses...\n",
            "\u001b[KTrain pose gan |######                          | (1201/1524) Data: 0.208334s | Batch: 0.408s | Total: 0:02:02 | ETA: 0:03:33   Train pose gan |#                               | (966/1524) Data: 0.798459s | Batch: 1.013s | Total: 0:01:06 | ETA: 0:05:43 Train pose gan |#                               | (968/1524) Data: 0.777014s | Batch: 0.991s | Total: 0:01:07 | ETA: 0:05:49 Train pose gan |###                             | (1054/1524) Data: 0.371971s | Batch: 0.581s | Total: 0:01:29 | ETA: 0:05:30 \n",
            "\n",
            "prepare buffer loader for train on fake pose\n",
            "(290944, 27, 16, 3)\n",
            "Generating 290944 poses...\n",
            "\u001b[KTrain pose gan |######                          | (1501/1524) Data: 0.165814s | Batch: 0.283s | Total: 0:01:25 | ETA: 0:02:31 6  \n",
            "\n",
            "prepare buffer loader for train on fake pose\n",
            "(290155, 27, 16, 3)\n",
            "Generating 290155 poses...\n",
            "\n",
            "Epoch: 2 | LR: 0.00009608\n",
            "\u001b[KTrain pose gan |######                          | (301/1524) Data: 0.028148s | Batch: 0.157s | Total: 0:00:47 | ETA: 0:02:52 \n",
            "\n",
            "prepare buffer loader for train on fake pose\n",
            "(295448, 27, 16, 3)\n",
            "Generating 295448 poses...\n",
            "\u001b[KTrain posenet |################################| (289/289) Data: 0.003615s | Batch: 0.022s | Total: 0:00:06 | ETA: 0:00:01 | Loss:  0.0056\n",
            "\u001b[KEval posenet on H36M_test |################################| (531/531) Data: 0.016593s | Batch: 0.040s | Total: 0:00:21 | ETA: 0:00:01 | MPJPE:  65.1167 | P-MPJPE:  46.6350 | N-MPJPE:  59.7955\n",
            "\u001b[KEval posenet on mpi3d_loader |################################| (25/25) Data: 0.031863s | Batch: 0.072s | Total: 0:00:01 | ETA: 0:00:01 | MPJPE:  100.2567 | P-MPJPE:  67.8232 | N-MPJPE:  94.6418\n",
            "\u001b[KTrain pose gan |######                          | (601/1524) Data: 0.064962s | Batch: 0.192s | Total: 0:00:57 | ETA: 0:02:58 0 \n",
            "\n",
            "prepare buffer loader for train on fake pose\n",
            "(280491, 27, 16, 3)\n",
            "Generating 280491 poses...\n",
            "\u001b[KTrain posenet |################################| (274/274) Data: 0.003754s | Batch: 0.022s | Total: 0:00:06 | ETA: 0:00:01 | Loss:  0.0106Train posenet |################                | (139/274) Data: 0.005767s | Batch: 0.024s | Total: 0:00:03 | ETA: 0:00:03 | Loss:  0.0135\n",
            "\u001b[KEval posenet on H36M_test |################################| (531/531) Data: 0.015566s | Batch: 0.039s | Total: 0:00:20 | ETA: 0:00:01 | MPJPE:  80.1010 | P-MPJPE:  52.6526 | N-MPJPE:  72.9514Eval posenet on H36M_test |#################               | (292/531) Data: 0.016428s | Batch: 0.040s | Total: 0:00:11 | ETA: 0:00:11 | MPJPE:  77.5986 | P-MPJPE:  52.3015 | N-MPJPE:  72.1937\n",
            "\u001b[KEval posenet on mpi3d_loader |################################| (25/25) Data: 0.028928s | Batch: 0.071s | Total: 0:00:01 | ETA: 0:00:01 | MPJPE:  111.1173 | P-MPJPE:  73.7634 | N-MPJPE:  105.2731\n",
            "\u001b[KTrain pose gan |######                          | (901/1524) Data: 0.094431s | Batch: 0.255s | Total: 0:01:16 | ETA: 0:05:41 2 Train pose gan |#####                           | (853/1524) Data: 0.107025s | Batch: 0.249s | Total: 0:01:02 | ETA: 0:05:57 \n",
            "\n",
            "prepare buffer loader for train on fake pose\n",
            "(192203, 27, 16, 3)\n",
            "Generating 192203 poses...\n",
            "\u001b[KTrain posenet |################################| (188/188) Data: 0.004770s | Batch: 0.031s | Total: 0:00:05 | ETA: 0:00:01 | Loss:  0.0092\n",
            "\u001b[KEval posenet on H36M_test |################################| (531/531) Data: 0.014315s | Batch: 0.060s | Total: 0:00:31 | ETA: 0:00:01 | MPJPE:  76.1840 | P-MPJPE:  49.6106 | N-MPJPE:  68.5313al posenet on H36M_test |                                | (2/531) Data: 0.340372s | Batch: 0.380s | Total: 0:00:00 | ETA: 0:05:26 | MPJPE:  84.1269 | P-MPJPE:  50.7217 | N-MPJPE:  80.4497Eval posenet on H36M_test |#                               | (27/531) Data: 0.033211s | Batch: 0.078s | Total: 0:00:02 | ETA: 0:00:26 | MPJPE:  75.3324 | P-MPJPE:  47.3068 | N-MPJPE:  71.6176Eval posenet on H36M_test |#######################         | (387/531) Data: 0.013538s | Batch: 0.059s | Total: 0:00:22 | ETA: 0:00:11 | MPJPE:  74.2685 | P-MPJPE:  48.8672 | N-MPJPE:  67.5016Eval posenet on H36M_test |#########################       | (428/531) Data: 0.013566s | Batch: 0.059s | Total: 0:00:25 | ETA: 0:00:06 | MPJPE:  75.2925 | P-MPJPE:  49.5318 | N-MPJPE:  68.1882\n",
            "\u001b[KEval posenet on mpi3d_loader |################################| (25/25) Data: 0.031367s | Batch: 0.103s | Total: 0:00:02 | ETA: 0:00:01 | MPJPE:  98.3508 | P-MPJPE:  66.7887 | N-MPJPE:  91.95385\n",
            "\u001b[KTrain pose gan |######                          | (1201/1524) Data: 0.169473s | Batch: 0.434s | Total: 0:02:10 | ETA: 0:05:44   Train pose gan |####                            | (1108/1524) Data: 0.232895s | Batch: 0.496s | Total: 0:01:43 | ETA: 0:07:32 \n",
            "\n",
            "prepare buffer loader for train on fake pose\n",
            "(229762, 27, 16, 3)\n",
            "Generating 229762 poses...\n",
            "\u001b[KTrain posenet |################################| (225/225) Data: 0.005464s | Batch: 0.031s | Total: 0:00:07 | ETA: 0:00:01 | Loss:  0.0085\n",
            "\u001b[KEval posenet on H36M_test |################################| (531/531) Data: 0.013285s | Batch: 0.061s | Total: 0:00:32 | ETA: 0:00:01 | MPJPE:  74.7326 | P-MPJPE:  48.7400 | N-MPJPE:  69.1906val posenet on H36M_test |##                              | (35/531) Data: 0.037448s | Batch: 0.079s | Total: 0:00:02 | ETA: 0:00:29 | MPJPE:  73.2545 | P-MPJPE:  45.6526 | N-MPJPE:  70.6881Eval posenet on H36M_test |#########                       | (156/531) Data: 0.017247s | Batch: 0.061s | Total: 0:00:09 | ETA: 0:00:25 | MPJPE:  70.8058 | P-MPJPE:  46.5193 | N-MPJPE:  67.0070Eval posenet on H36M_test |##################              | (310/531) Data: 0.014856s | Batch: 0.061s | Total: 0:00:18 | ETA: 0:00:11 | MPJPE:  72.6015 | P-MPJPE:  48.6406 | N-MPJPE:  68.7914\n",
            "\u001b[KEval posenet on mpi3d_loader |################################| (25/25) Data: 0.040939s | Batch: 0.111s | Total: 0:00:02 | ETA: 0:00:01 | MPJPE:  96.8903 | P-MPJPE:  66.6707 | N-MPJPE:  91.1061\n",
            "\u001b[KTrain pose gan |######                          | (1501/1524) Data: 0.209226s | Batch: 0.478s | Total: 0:02:23 | ETA: 0:06:10 3  \n",
            "\n",
            "prepare buffer loader for train on fake pose\n",
            "(198331, 27, 16, 3)\n",
            "Generating 198331 poses...\n",
            "\u001b[KTrain posenet |################################| (194/194) Data: 0.004579s | Batch: 0.030s | Total: 0:00:05 | ETA: 0:00:01 | Loss:  0.0078Train posenet |#######################         | (143/194) Data: 0.005792s | Batch: 0.030s | Total: 0:00:04 | ETA: 0:00:02 | Loss:  0.0080\n",
            "\u001b[KEval posenet on H36M_test |################################| (531/531) Data: 0.015857s | Batch: 0.064s | Total: 0:00:34 | ETA: 0:00:01 | MPJPE:  72.8826 | P-MPJPE:  48.2538 | N-MPJPE:  67.4595Eval posenet on H36M_test |###################             | (323/531) Data: 0.016300s | Batch: 0.062s | Total: 0:00:20 | ETA: 0:00:11 | MPJPE:  70.8970 | P-MPJPE:  47.9499 | N-MPJPE:  67.0704Eval posenet on H36M_test |##############################  | (513/531) Data: 0.016023s | Batch: 0.065s | Total: 0:00:33 | ETA: 0:00:02 | MPJPE:  72.5828 | P-MPJPE:  48.0583 | N-MPJPE:  67.1926\n",
            "\u001b[KEval posenet on mpi3d_loader |################################| (25/25) Data: 0.030186s | Batch: 0.094s | Total: 0:00:02 | ETA: 0:00:01 | MPJPE:  94.6278 | P-MPJPE:  66.2333 | N-MPJPE:  89.1032\n",
            "\u001b[KTrain posenet |################################| (1524/1524) Data: 0.008845s | Batch: 0.038s | Total: 0:00:57 | ETA: 0:00:01 | Loss:  0.0011ain posenet |#                               | (78/1524) Data: 0.022599s | Batch: 0.053s | Total: 0:00:04 | ETA: 0:00:55 | Loss:  0.0067Train posenet |#############################   | (1393/1524) Data: 0.008629s | Batch: 0.038s | Total: 0:00:52 | ETA: 0:00:05 | Loss:  0.0012\n",
            "\u001b[KEval posenet on H36M_test |################################| (531/531) Data: 0.014503s | Batch: 0.066s | Total: 0:00:35 | ETA: 0:00:01 | MPJPE:  42.8744 | P-MPJPE:  31.0553 | N-MPJPE:  39.1665Eval posenet on H36M_test |#############                   | (223/531) Data: 0.015740s | Batch: 0.069s | Total: 0:00:15 | ETA: 0:00:28 | MPJPE:  43.0969 | P-MPJPE:  32.5942 | N-MPJPE:  40.9631\n",
            "\u001b[KEval posenet on mpi3d_loader |################################| (25/25) Data: 0.033916s | Batch: 0.105s | Total: 0:00:02 | ETA: 0:00:01 | MPJPE:  94.6004 | P-MPJPE:  65.5245 | N-MPJPE:  88.3992\n",
            "\n",
            "Epoch: 3 | LR: 0.00009412\n",
            "\u001b[KTrain pose gan |######                          | (301/1524) Data: 0.036755s | Batch: 0.299s | Total: 0:01:29 | ETA: 0:05:36 Train pose gan |##                              | (139/1524) Data: 0.051263s | Batch: 0.321s | Total: 0:00:44 | ETA: 0:07:28 Train pose gan |###                             | (152/1524) Data: 0.049063s | Batch: 0.318s | Total: 0:00:48 | ETA: 0:06:25 Train pose gan |#####                           | (242/1524) Data: 0.040835s | Batch: 0.304s | Total: 0:01:13 | ETA: 0:05:42 \n",
            "\n",
            "prepare buffer loader for train on fake pose\n",
            "(269856, 27, 16, 3)\n",
            "Generating 269856 poses...\n",
            "\u001b[KTrain posenet |################################| (264/264) Data: 0.004948s | Batch: 0.032s | Total: 0:00:08 | ETA: 0:00:01 | Loss:  0.0072\n",
            "\u001b[KEval posenet on H36M_test |################################| (531/531) Data: 0.015449s | Batch: 0.062s | Total: 0:00:32 | ETA: 0:00:01 | MPJPE:  72.2927 | P-MPJPE:  47.2762 | N-MPJPE:  68.8331val posenet on H36M_test |#####                           | (89/531) Data: 0.018551s | Batch: 0.071s | Total: 0:00:06 | ETA: 0:00:22 | MPJPE:  70.5760 | P-MPJPE:  45.8059 | N-MPJPE:  68.2126Eval posenet on H36M_test |##################              | (302/531) Data: 0.015454s | Batch: 0.062s | Total: 0:00:18 | ETA: 0:00:15 | MPJPE:  70.5550 | P-MPJPE:  47.6042 | N-MPJPE:  68.2770Eval posenet on H36M_test |###################             | (324/531) Data: 0.015103s | Batch: 0.062s | Total: 0:00:20 | ETA: 0:00:14 | MPJPE:  70.8685 | P-MPJPE:  47.4468 | N-MPJPE:  68.5216Eval posenet on H36M_test |######################          | (375/531) Data: 0.015883s | Batch: 0.062s | Total: 0:00:23 | ETA: 0:00:12 | MPJPE:  71.0483 | P-MPJPE:  46.9828 | N-MPJPE:  68.1861\n",
            "\u001b[KEval posenet on mpi3d_loader |################################| (25/25) Data: 0.048402s | Batch: 0.133s | Total: 0:00:03 | ETA: 0:00:01 | MPJPE:  92.3887 | P-MPJPE:  66.0063 | N-MPJPE:  87.5156\n",
            "\u001b[KTrain pose gan |######                          | (601/1524) Data: 0.084847s | Batch: 0.345s | Total: 0:01:43 | ETA: 0:06:14 0 Train pose gan |####                            | (512/1524) Data: 0.108423s | Batch: 0.370s | Total: 0:01:18 | ETA: 0:06:30 \n",
            "\n",
            "prepare buffer loader for train on fake pose\n",
            "(281375, 27, 16, 3)\n",
            "Generating 281375 poses...\n",
            "\u001b[KTrain posenet |################################| (275/275) Data: 0.004157s | Batch: 0.029s | Total: 0:00:08 | ETA: 0:00:01 | Loss:  0.0050\n",
            "\u001b[KEval posenet on H36M_test |################################| (531/531) Data: 0.014869s | Batch: 0.062s | Total: 0:00:32 | ETA: 0:00:01 | MPJPE:  69.5276 | P-MPJPE:  43.8845 | N-MPJPE:  65.7965Eval posenet on H36M_test |############                    | (210/531) Data: 0.015079s | Batch: 0.061s | Total: 0:00:12 | ETA: 0:00:24 | MPJPE:  68.6313 | P-MPJPE:  44.0780 | N-MPJPE:  66.1034Eval posenet on H36M_test |################                | (274/531) Data: 0.015120s | Batch: 0.062s | Total: 0:00:17 | ETA: 0:00:15 | MPJPE:  67.7220 | P-MPJPE:  43.9899 | N-MPJPE:  65.0192Eval posenet on H36M_test |##################              | (306/531) Data: 0.015082s | Batch: 0.062s | Total: 0:00:19 | ETA: 0:00:16 | MPJPE:  68.2297 | P-MPJPE:  44.2025 | N-MPJPE:  65.6145Eval posenet on H36M_test |#####################           | (351/531) Data: 0.015308s | Batch: 0.062s | Total: 0:00:21 | ETA: 0:00:13 | MPJPE:  68.6830 | P-MPJPE:  43.7833 | N-MPJPE:  65.7506Eval posenet on H36M_test |######################          | (378/531) Data: 0.015081s | Batch: 0.063s | Total: 0:00:23 | ETA: 0:00:12 | MPJPE:  68.6076 | P-MPJPE:  43.5551 | N-MPJPE:  65.4305Eval posenet on H36M_test |#########################       | (426/531) Data: 0.014951s | Batch: 0.063s | Total: 0:00:26 | ETA: 0:00:06 | MPJPE:  69.0255 | P-MPJPE:  44.0209 | N-MPJPE:  65.6075\n",
            "\u001b[KEval posenet on mpi3d_loader |################################| (25/25) Data: 0.049028s | Batch: 0.146s | Total: 0:00:03 | ETA: 0:00:01 | MPJPE:  90.5000 | P-MPJPE:  64.5360 | N-MPJPE:  86.1040\n",
            "\u001b[KTrain pose gan |######                          | (901/1524) Data: 0.126863s | Batch: 0.383s | Total: 0:01:55 | ETA: 0:04:58  7 \n",
            "\n",
            "prepare buffer loader for train on fake pose\n",
            "(279902, 27, 16, 3)\n",
            "Generating 279902 poses...\n",
            "\u001b[KTrain posenet |################################| (274/274) Data: 0.004348s | Batch: 0.030s | Total: 0:00:08 | ETA: 0:00:01 | Loss:  0.0043\n",
            "\u001b[KEval posenet on H36M_test |################################| (531/531) Data: 0.016183s | Batch: 0.062s | Total: 0:00:32 | ETA: 0:00:01 | MPJPE:  68.7792 | P-MPJPE:  42.9491 | N-MPJPE:  65.0806al posenet on H36M_test |                                | (6/531) Data: 0.151904s | Batch: 0.198s | Total: 0:00:01 | ETA: 0:02:00 | MPJPE:  74.3657 | P-MPJPE:  40.4195 | N-MPJPE:  71.9778Eval posenet on H36M_test |######                          | (114/531) Data: 0.021867s | Batch: 0.074s | Total: 0:00:08 | ETA: 0:00:21 | MPJPE:  66.8852 | P-MPJPE:  41.7677 | N-MPJPE:  64.1503Eval posenet on H36M_test |##########                      | (168/531) Data: 0.018917s | Batch: 0.070s | Total: 0:00:11 | ETA: 0:00:22 | MPJPE:  67.3059 | P-MPJPE:  42.2296 | N-MPJPE:  64.6675Eval posenet on H36M_test |#############                   | (228/531) Data: 0.017915s | Batch: 0.068s | Total: 0:00:15 | ETA: 0:00:20 | MPJPE:  67.1008 | P-MPJPE:  43.0374 | N-MPJPE:  64.4279Eval posenet on H36M_test |###########################     | (460/531) Data: 0.016430s | Batch: 0.063s | Total: 0:00:29 | ETA: 0:00:06 | MPJPE:  68.3775 | P-MPJPE:  42.8986 | N-MPJPE:  64.9232\n",
            "\u001b[KEval posenet on mpi3d_loader |################################| (25/25) Data: 0.043696s | Batch: 0.123s | Total: 0:00:03 | ETA: 0:00:01 | MPJPE:  88.9420 | P-MPJPE:  62.3136 | N-MPJPE:  84.0468\n",
            "\u001b[KTrain pose gan |######                          | (1201/1524) Data: 0.163966s | Batch: 0.438s | Total: 0:02:11 | ETA: 0:07:02   \n",
            "\n",
            "prepare buffer loader for train on fake pose\n",
            "(275756, 27, 16, 3)\n",
            "Generating 275756 poses...\n",
            "\u001b[KTrain posenet |################################| (270/270) Data: 0.003914s | Batch: 0.029s | Total: 0:00:07 | ETA: 0:00:01 | Loss:  0.0037\n",
            "\u001b[KEval posenet on H36M_test |################################| (531/531) Data: 0.013635s | Batch: 0.055s | Total: 0:00:29 | ETA: 0:00:01 | MPJPE:  71.0692 | P-MPJPE:  43.3846 | N-MPJPE:  66.7860Eval posenet on H36M_test |#################               | (288/531) Data: 0.015317s | Batch: 0.054s | Total: 0:00:15 | ETA: 0:00:15 | MPJPE:  69.4957 | P-MPJPE:  43.4894 | N-MPJPE:  66.3912Eval posenet on H36M_test |###################             | (320/531) Data: 0.014526s | Batch: 0.054s | Total: 0:00:17 | ETA: 0:00:12 | MPJPE:  69.8346 | P-MPJPE:  43.5736 | N-MPJPE:  66.7150Eval posenet on H36M_test |#########################       | (428/531) Data: 0.013911s | Batch: 0.057s | Total: 0:00:24 | ETA: 0:00:08 | MPJPE:  70.5169 | P-MPJPE:  43.4285 | N-MPJPE:  66.5463\n",
            "\u001b[KEval posenet on mpi3d_loader |################################| (25/25) Data: 0.030722s | Batch: 0.091s | Total: 0:00:02 | ETA: 0:00:01 | MPJPE:  87.3194 | P-MPJPE:  60.7984 | N-MPJPE:  82.2963\n",
            "\u001b[KTrain pose gan |######                          | (1501/1524) Data: 0.193248s | Batch: 0.453s | Total: 0:02:16 | ETA: 0:05:20 4  \n",
            "\n",
            "prepare buffer loader for train on fake pose\n",
            "(278346, 27, 16, 3)\n",
            "Generating 278346 poses...\n",
            "\u001b[KTrain posenet |################################| (272/272) Data: 0.004201s | Batch: 0.029s | Total: 0:00:07 | ETA: 0:00:01 | Loss:  0.0040\n",
            "\u001b[KEval posenet on H36M_test |################################| (531/531) Data: 0.014973s | Batch: 0.059s | Total: 0:00:31 | ETA: 0:00:01 | MPJPE:  70.0717 | P-MPJPE:  42.9013 | N-MPJPE:  65.5792val posenet on H36M_test |###                             | (50/531) Data: 0.027587s | Batch: 0.067s | Total: 0:00:03 | ETA: 0:00:20 | MPJPE:  70.0789 | P-MPJPE:  41.3332 | N-MPJPE:  66.4154Eval posenet on H36M_test |########                        | (140/531) Data: 0.018066s | Batch: 0.063s | Total: 0:00:08 | ETA: 0:00:31 | MPJPE:  69.0612 | P-MPJPE:  42.0765 | N-MPJPE:  65.3472Eval posenet on H36M_test |##########                      | (170/531) Data: 0.017986s | Batch: 0.062s | Total: 0:00:10 | ETA: 0:00:19 | MPJPE:  69.4939 | P-MPJPE:  42.6574 | N-MPJPE:  65.9964Eval posenet on H36M_test |############################    | (481/531) Data: 0.015216s | Batch: 0.060s | Total: 0:00:28 | ETA: 0:00:04 | MPJPE:  69.6532 | P-MPJPE:  42.6646 | N-MPJPE:  65.2775\n",
            "\u001b[KEval posenet on mpi3d_loader |################################| (25/25) Data: 0.038514s | Batch: 0.114s | Total: 0:00:02 | ETA: 0:00:01 | MPJPE:  86.4423 | P-MPJPE:  60.3539 | N-MPJPE:  81.4097\n",
            "\u001b[KTrain posenet |################################| (1524/1524) Data: 0.007542s | Batch: 0.036s | Total: 0:00:55 | ETA: 0:00:01 | Loss:  0.0007\n",
            "\u001b[KEval posenet on H36M_test |################################| (531/531) Data: 0.014503s | Batch: 0.062s | Total: 0:00:32 | ETA: 0:00:01 | MPJPE:  42.3310 | P-MPJPE:  30.6083 | N-MPJPE:  38.5148val posenet on H36M_test |##                              | (40/531) Data: 0.035169s | Batch: 0.091s | Total: 0:00:03 | ETA: 0:00:32 | MPJPE:  44.3398 | P-MPJPE:  32.4184 | N-MPJPE:  40.7618Eval posenet on H36M_test |####################            | (334/531) Data: 0.015683s | Batch: 0.062s | Total: 0:00:20 | ETA: 0:00:10 | MPJPE:  42.5036 | P-MPJPE:  32.0170 | N-MPJPE:  40.1519\n",
            "\u001b[KEval posenet on mpi3d_loader |################################| (25/25) Data: 0.040006s | Batch: 0.116s | Total: 0:00:02 | ETA: 0:00:01 | MPJPE:  93.2605 | P-MPJPE:  64.7880 | N-MPJPE:  87.7743\n",
            "\n",
            "Epoch: 4 | LR: 0.00009216\n",
            "\u001b[KTrain pose gan |######                          | (301/1524) Data: 0.039205s | Batch: 0.298s | Total: 0:01:29 | ETA: 0:05:11 Train pose gan |####                            | (201/1524) Data: 0.045484s | Batch: 0.306s | Total: 0:01:01 | ETA: 0:06:08 \n",
            "\n",
            "prepare buffer loader for train on fake pose\n",
            "(282490, 27, 16, 3)\n",
            "Generating 282490 poses...\n",
            "\u001b[KTrain posenet |################################| (276/276) Data: 0.003866s | Batch: 0.027s | Total: 0:00:07 | ETA: 0:00:01 | Loss:  0.0042\n",
            "\u001b[KEval posenet on H36M_test |################################| (531/531) Data: 0.015293s | Batch: 0.059s | Total: 0:00:31 | ETA: 0:00:01 | MPJPE:  75.2177 | P-MPJPE:  46.9232 | N-MPJPE:  71.7699Eval posenet on H36M_test |################                | (275/531) Data: 0.016228s | Batch: 0.059s | Total: 0:00:16 | ETA: 0:00:18 | MPJPE:  73.5928 | P-MPJPE:  46.9042 | N-MPJPE:  71.0196Eval posenet on H36M_test |################                | (278/531) Data: 0.016178s | Batch: 0.059s | Total: 0:00:16 | ETA: 0:00:17 | MPJPE:  73.6600 | P-MPJPE:  46.8919 | N-MPJPE:  71.0989Eval posenet on H36M_test |#############################   | (492/531) Data: 0.015456s | Batch: 0.058s | Total: 0:00:28 | ETA: 0:00:02 | MPJPE:  74.7041 | P-MPJPE:  46.6894 | N-MPJPE:  71.2401Eval posenet on H36M_test |##############################  | (507/531) Data: 0.015448s | Batch: 0.059s | Total: 0:00:29 | ETA: 0:00:02 | MPJPE:  75.0748 | P-MPJPE:  46.8488 | N-MPJPE:  71.6504\n",
            "\u001b[KEval posenet on mpi3d_loader |################################| (25/25) Data: 0.036594s | Batch: 0.098s | Total: 0:00:02 | ETA: 0:00:01 | MPJPE:  87.4773 | P-MPJPE:  62.6859 | N-MPJPE:  82.6841\n",
            "\u001b[KTrain pose gan |######                          | (601/1524) Data: 0.079734s | Batch: 0.347s | Total: 0:01:44 | ETA: 0:05:26 0 Train pose gan |###                             | (454/1524) Data: 0.127689s | Batch: 0.392s | Total: 0:01:00 | ETA: 0:06:51 Train pose gan |###                             | (472/1524) Data: 0.117789s | Batch: 0.387s | Total: 0:01:06 | ETA: 0:07:27 \n",
            "\n",
            "prepare buffer loader for train on fake pose\n",
            "(259883, 27, 16, 3)\n",
            "Generating 259883 poses...\n",
            "\u001b[KTrain posenet |################################| (254/254) Data: 0.004434s | Batch: 0.030s | Total: 0:00:07 | ETA: 0:00:01 | Loss:  0.0033\n",
            "\u001b[KEval posenet on H36M_test |################################| (531/531) Data: 0.012921s | Batch: 0.061s | Total: 0:00:32 | ETA: 0:00:01 | MPJPE:  75.7930 | P-MPJPE:  47.5723 | N-MPJPE:  71.5143Eval posenet on H36M_test |########                        | (144/531) Data: 0.018813s | Batch: 0.070s | Total: 0:00:10 | ETA: 0:00:19 | MPJPE:  74.2802 | P-MPJPE:  47.0195 | N-MPJPE:  70.9019Eval posenet on H36M_test |##################              | (309/531) Data: 0.013892s | Batch: 0.063s | Total: 0:00:19 | ETA: 0:00:11 | MPJPE:  73.9963 | P-MPJPE:  47.6889 | N-MPJPE:  70.9113\n",
            "\u001b[KEval posenet on mpi3d_loader |################################| (25/25) Data: 0.036584s | Batch: 0.106s | Total: 0:00:02 | ETA: 0:00:01 | MPJPE:  89.9548 | P-MPJPE:  63.4892 | N-MPJPE:  84.6856\n",
            "\u001b[KTrain pose gan |######                          | (901/1524) Data: 0.120117s | Batch: 0.383s | Total: 0:01:55 | ETA: 0:05:13 42 \n",
            "\n",
            "prepare buffer loader for train on fake pose\n",
            "(269598, 27, 16, 3)\n",
            "Generating 269598 poses...\n",
            "\u001b[KTrain posenet |################################| (264/264) Data: 0.003923s | Batch: 0.029s | Total: 0:00:07 | ETA: 0:00:01 | Loss:  0.0024\n",
            "\u001b[KEval posenet on H36M_test |################################| (531/531) Data: 0.016559s | Batch: 0.064s | Total: 0:00:34 | ETA: 0:00:01 | MPJPE:  79.6622 | P-MPJPE:  48.2130 | N-MPJPE:  75.8685val posenet on H36M_test |####                            | (71/531) Data: 0.024477s | Batch: 0.080s | Total: 0:00:05 | ETA: 0:00:23 | MPJPE:  79.5504 | P-MPJPE:  48.4098 | N-MPJPE:  76.3277Eval posenet on H36M_test |#####                           | (85/531) Data: 0.023616s | Batch: 0.078s | Total: 0:00:06 | ETA: 0:00:34 | MPJPE:  80.4705 | P-MPJPE:  48.8036 | N-MPJPE:  77.3970Eval posenet on H36M_test |#######                         | (131/531) Data: 0.020681s | Batch: 0.071s | Total: 0:00:09 | ETA: 0:00:24 | MPJPE:  79.7361 | P-MPJPE:  48.6258 | N-MPJPE:  76.6286Eval posenet on H36M_test |########                        | (141/531) Data: 0.019449s | Batch: 0.069s | Total: 0:00:09 | ETA: 0:00:17 | MPJPE:  79.4708 | P-MPJPE:  48.7570 | N-MPJPE:  76.4364Eval posenet on H36M_test |############                    | (213/531) Data: 0.017420s | Batch: 0.070s | Total: 0:00:14 | ETA: 0:00:20 | MPJPE:  79.7725 | P-MPJPE:  49.4629 | N-MPJPE:  77.0949Eval posenet on H36M_test |#############                   | (227/531) Data: 0.017808s | Batch: 0.069s | Total: 0:00:15 | ETA: 0:00:18 | MPJPE:  79.3628 | P-MPJPE:  49.3441 | N-MPJPE:  76.5431Eval posenet on H36M_test |################                | (266/531) Data: 0.017071s | Batch: 0.069s | Total: 0:00:18 | ETA: 0:00:15 | MPJPE:  78.8414 | P-MPJPE:  49.0720 | N-MPJPE:  76.0203Eval posenet on H36M_test |################                | (280/531) Data: 0.017273s | Batch: 0.068s | Total: 0:00:19 | ETA: 0:00:14 | MPJPE:  79.2493 | P-MPJPE:  49.1488 | N-MPJPE:  76.4797Eval posenet on H36M_test |#################               | (293/531) Data: 0.017499s | Batch: 0.068s | Total: 0:00:19 | ETA: 0:00:18 | MPJPE:  79.2063 | P-MPJPE:  49.1366 | N-MPJPE:  76.4748Eval posenet on H36M_test |########################        | (400/531) Data: 0.017672s | Batch: 0.066s | Total: 0:00:26 | ETA: 0:00:09 | MPJPE:  79.8369 | P-MPJPE:  48.5509 | N-MPJPE:  76.5597\n",
            "\u001b[KEval posenet on mpi3d_loader |################################| (25/25) Data: 0.041176s | Batch: 0.111s | Total: 0:00:02 | ETA: 0:00:01 | MPJPE:  86.2838 | P-MPJPE:  60.0484 | N-MPJPE:  80.4164\n",
            "\u001b[KTrain pose gan |######                          | (1201/1524) Data: 0.157407s | Batch: 0.413s | Total: 0:02:04 | ETA: 0:05:03   \n",
            "\n",
            "prepare buffer loader for train on fake pose\n",
            "(278980, 27, 16, 3)\n",
            "Generating 278980 poses...\n",
            "\u001b[KTrain posenet |################################| (273/273) Data: 0.003791s | Batch: 0.029s | Total: 0:00:07 | ETA: 0:00:01 | Loss:  0.0023\n",
            "\u001b[KEval posenet on H36M_test |################################| (531/531) Data: 0.014547s | Batch: 0.063s | Total: 0:00:33 | ETA: 0:00:01 | MPJPE:  79.9008 | P-MPJPE:  48.4963 | N-MPJPE:  76.1657Eval posenet on H36M_test |########                        | (144/531) Data: 0.020508s | Batch: 0.063s | Total: 0:00:09 | ETA: 0:00:19 | MPJPE:  79.3066 | P-MPJPE:  48.7067 | N-MPJPE:  76.3761Eval posenet on H36M_test |#############                   | (219/531) Data: 0.018103s | Batch: 0.063s | Total: 0:00:13 | ETA: 0:00:18 | MPJPE:  79.4292 | P-MPJPE:  49.4093 | N-MPJPE:  76.7516Eval posenet on H36M_test |##############                  | (236/531) Data: 0.017756s | Batch: 0.063s | Total: 0:00:14 | ETA: 0:00:20 | MPJPE:  79.0987 | P-MPJPE:  49.3899 | N-MPJPE:  76.3208\n",
            "\u001b[KEval posenet on mpi3d_loader |################################| (25/25) Data: 0.037975s | Batch: 0.107s | Total: 0:00:02 | ETA: 0:00:01 | MPJPE:  84.6355 | P-MPJPE:  59.2499 | N-MPJPE:  79.0900\n",
            "\u001b[KTrain pose gan |######                          | (1501/1524) Data: 0.198167s | Batch: 0.453s | Total: 0:02:16 | ETA: 0:05:58 8  \n",
            "\n",
            "prepare buffer loader for train on fake pose\n",
            "(279645, 27, 16, 3)\n",
            "Generating 279645 poses...\n",
            "\u001b[KTrain posenet |################################| (274/274) Data: 0.004364s | Batch: 0.029s | Total: 0:00:07 | ETA: 0:00:01 | Loss:  0.0023\n",
            "\u001b[KEval posenet on H36M_test |################################| (531/531) Data: 0.014166s | Batch: 0.061s | Total: 0:00:32 | ETA: 0:00:01 | MPJPE:  82.1335 | P-MPJPE:  50.0917 | N-MPJPE:  78.4651Eval posenet on H36M_test |#############                   | (229/531) Data: 0.015154s | Batch: 0.062s | Total: 0:00:14 | ETA: 0:00:22 | MPJPE:  80.9477 | P-MPJPE:  50.8322 | N-MPJPE:  78.2082Eval posenet on H36M_test |#####################           | (359/531) Data: 0.014190s | Batch: 0.061s | Total: 0:00:21 | ETA: 0:00:13 | MPJPE:  82.2417 | P-MPJPE:  50.6026 | N-MPJPE:  79.3526Eval posenet on H36M_test |######################          | (376/531) Data: 0.013835s | Batch: 0.061s | Total: 0:00:22 | ETA: 0:00:10 | MPJPE:  81.8450 | P-MPJPE:  50.3640 | N-MPJPE:  78.7572Eval posenet on H36M_test |#######################         | (382/531) Data: 0.013787s | Batch: 0.060s | Total: 0:00:23 | ETA: 0:00:09 | MPJPE:  81.6485 | P-MPJPE:  50.2626 | N-MPJPE:  78.5830\n",
            "\u001b[KEval posenet on mpi3d_loader |################################| (25/25) Data: 0.031902s | Batch: 0.095s | Total: 0:00:02 | ETA: 0:00:01 | MPJPE:  83.5403 | P-MPJPE:  58.8380 | N-MPJPE:  78.2122\n",
            "\u001b[KTrain posenet |################################| (1524/1524) Data: 0.007351s | Batch: 0.036s | Total: 0:00:54 | ETA: 0:00:01 | Loss:  0.0005\n",
            "\u001b[KEval posenet on H36M_test |################################| (531/531) Data: 0.015524s | Batch: 0.059s | Total: 0:00:31 | ETA: 0:00:01 | MPJPE:  41.7532 | P-MPJPE:  29.9280 | N-MPJPE:  37.8117Eval posenet on H36M_test |###########                     | (184/531) Data: 0.019427s | Batch: 0.060s | Total: 0:00:10 | ETA: 0:00:27 | MPJPE:  42.1200 | P-MPJPE:  31.5797 | N-MPJPE:  39.7745\n",
            "\u001b[KEval posenet on mpi3d_loader |################################| (25/25) Data: 0.033115s | Batch: 0.102s | Total: 0:00:02 | ETA: 0:00:01 | MPJPE:  92.2147 | P-MPJPE:  64.1337 | N-MPJPE:  86.7154\n",
            "\n",
            "Epoch: 5 | LR: 0.00009020\n",
            "\u001b[KTrain pose gan |######                          | (301/1524) Data: 0.038121s | Batch: 0.285s | Total: 0:01:25 | ETA: 0:05:05 \n",
            "\n",
            "prepare buffer loader for train on fake pose\n",
            "(293225, 27, 16, 3)\n",
            "Generating 293225 poses...\n",
            "\u001b[KTrain posenet |################################| (287/287) Data: 0.004410s | Batch: 0.029s | Total: 0:00:08 | ETA: 0:00:01 | Loss:  0.0028\n",
            "\u001b[KEval posenet on H36M_test |################################| (531/531) Data: 0.014488s | Batch: 0.061s | Total: 0:00:32 | ETA: 0:00:01 | MPJPE:  79.5040 | P-MPJPE:  49.1933 | N-MPJPE:  75.1049val posenet on H36M_test |#                               | (28/531) Data: 0.042862s | Batch: 0.085s | Total: 0:00:02 | ETA: 0:00:25 | MPJPE:  76.8461 | P-MPJPE:  46.8992 | N-MPJPE:  74.4762Eval posenet on H36M_test |###                             | (54/531) Data: 0.033050s | Batch: 0.071s | Total: 0:00:03 | ETA: 0:00:20 | MPJPE:  76.3412 | P-MPJPE:  47.2463 | N-MPJPE:  73.2762Eval posenet on H36M_test |####                            | (76/531) Data: 0.030707s | Batch: 0.070s | Total: 0:00:05 | ETA: 0:00:40 | MPJPE:  77.9334 | P-MPJPE:  47.8835 | N-MPJPE:  74.2109Eval posenet on H36M_test |#####                           | (95/531) Data: 0.026931s | Batch: 0.069s | Total: 0:00:06 | ETA: 0:00:29 | MPJPE:  79.3587 | P-MPJPE:  48.6839 | N-MPJPE:  75.7169Eval posenet on H36M_test |######################          | (380/531) Data: 0.016050s | Batch: 0.064s | Total: 0:00:24 | ETA: 0:00:09 | MPJPE:  78.5457 | P-MPJPE:  49.1788 | N-MPJPE:  74.8081\n",
            "\u001b[KEval posenet on mpi3d_loader |################################| (25/25) Data: 0.045723s | Batch: 0.123s | Total: 0:00:03 | ETA: 0:00:01 | MPJPE:  86.9526 | P-MPJPE:  62.3181 | N-MPJPE:  81.5171\n",
            "\u001b[KTrain pose gan |######                          | (601/1524) Data: 0.082738s | Batch: 0.342s | Total: 0:01:43 | ETA: 0:05:48 0 Train pose gan |                                | (333/1524) Data: 0.515627s | Batch: 0.785s | Total: 0:00:25 | ETA: 0:07:41 Train pose gan |##                              | (405/1524) Data: 0.183261s | Batch: 0.444s | Total: 0:00:46 | ETA: 0:07:15 Train pose gan |##                              | (438/1524) Data: 0.148494s | Batch: 0.412s | Total: 0:00:56 | ETA: 0:07:12 \n",
            "\n",
            "prepare buffer loader for train on fake pose\n",
            "(271359, 27, 16, 3)\n",
            "Generating 271359 poses...\n",
            "\u001b[KTrain posenet |################################| (265/265) Data: 0.004532s | Batch: 0.029s | Total: 0:00:07 | ETA: 0:00:01 | Loss:  0.0024\n",
            "\u001b[KEval posenet on H36M_test |################################| (531/531) Data: 0.014621s | Batch: 0.062s | Total: 0:00:33 | ETA: 0:00:01 | MPJPE:  81.6810 | P-MPJPE:  48.9083 | N-MPJPE:  77.3999val posenet on H36M_test |#                               | (33/531) Data: 0.036821s | Batch: 0.081s | Total: 0:00:02 | ETA: 0:00:29 | MPJPE:  81.6473 | P-MPJPE:  49.6274 | N-MPJPE:  78.8765Eval posenet on H36M_test |##                              | (47/531) Data: 0.028375s | Batch: 0.075s | Total: 0:00:03 | ETA: 0:00:30 | MPJPE:  81.6148 | P-MPJPE:  49.1263 | N-MPJPE:  78.6997Eval posenet on H36M_test |########                        | (142/531) Data: 0.017592s | Batch: 0.065s | Total: 0:00:09 | ETA: 0:00:24 | MPJPE:  81.3340 | P-MPJPE:  49.5628 | N-MPJPE:  78.0908Eval posenet on H36M_test |#########                       | (160/531) Data: 0.017184s | Batch: 0.065s | Total: 0:00:10 | ETA: 0:00:22 | MPJPE:  81.6258 | P-MPJPE:  49.6608 | N-MPJPE:  78.4865Eval posenet on H36M_test |#####################           | (349/531) Data: 0.015372s | Batch: 0.064s | Total: 0:00:22 | ETA: 0:00:12 | MPJPE:  81.8098 | P-MPJPE:  49.6194 | N-MPJPE:  78.5566Eval posenet on H36M_test |#####################           | (363/531) Data: 0.015205s | Batch: 0.063s | Total: 0:00:23 | ETA: 0:00:08 | MPJPE:  81.7668 | P-MPJPE:  49.4744 | N-MPJPE:  78.3857\n",
            "\u001b[KEval posenet on mpi3d_loader |################################| (25/25) Data: 0.042170s | Batch: 0.126s | Total: 0:00:03 | ETA: 0:00:01 | MPJPE:  84.0796 | P-MPJPE:  58.6078 | N-MPJPE:  78.3875\n",
            "\u001b[KTrain pose gan |######                          | (901/1524) Data: 0.119792s | Batch: 0.379s | Total: 0:01:54 | ETA: 0:05:56 55 Train pose gan |                                | (638/1524) Data: 0.765037s | Batch: 1.030s | Total: 0:00:39 | ETA: 0:07:28 Train pose gan |#                               | (674/1524) Data: 0.406724s | Batch: 0.668s | Total: 0:00:49 | ETA: 0:07:00 Train pose gan |###                             | (781/1524) Data: 0.183803s | Batch: 0.445s | Total: 0:01:20 | ETA: 0:06:40 \n",
            "\n",
            "prepare buffer loader for train on fake pose\n",
            "(280278, 27, 16, 3)\n",
            "Generating 280278 poses...\n",
            "\u001b[KTrain posenet |################################| (274/274) Data: 0.004146s | Batch: 0.030s | Total: 0:00:08 | ETA: 0:00:01 | Loss:  0.0022\n",
            "\u001b[KEval posenet on H36M_test |################################| (531/531) Data: 0.013710s | Batch: 0.059s | Total: 0:00:31 | ETA: 0:00:01 | MPJPE:  83.8651 | P-MPJPE:  50.2605 | N-MPJPE:  80.2412Eval posenet on H36M_test |######################          | (372/531) Data: 0.015178s | Batch: 0.060s | Total: 0:00:22 | ETA: 0:00:10 | MPJPE:  83.9347 | P-MPJPE:  50.6904 | N-MPJPE:  81.0339\n",
            "\u001b[KEval posenet on mpi3d_loader |################################| (25/25) Data: 0.039210s | Batch: 0.111s | Total: 0:00:02 | ETA: 0:00:01 | MPJPE:  82.3402 | P-MPJPE:  56.9581 | N-MPJPE:  76.6400\n",
            "\u001b[KTrain pose gan |######                          | (1201/1524) Data: 0.157947s | Batch: 0.411s | Total: 0:02:03 | ETA: 0:06:02   \n",
            "\n",
            "prepare buffer loader for train on fake pose\n",
            "(292394, 27, 16, 3)\n",
            "Generating 292394 poses...\n",
            "\u001b[KTrain posenet |################################| (286/286) Data: 0.003767s | Batch: 0.028s | Total: 0:00:08 | ETA: 0:00:01 | Loss:  0.0020\n",
            "\u001b[KEval posenet on H36M_test |################################| (531/531) Data: 0.014162s | Batch: 0.065s | Total: 0:00:34 | ETA: 0:00:01 | MPJPE:  84.2431 | P-MPJPE:  50.5156 | N-MPJPE:  81.0888Eval posenet on H36M_test |#####################           | (357/531) Data: 0.014666s | Batch: 0.066s | Total: 0:00:23 | ETA: 0:00:12 | MPJPE:  84.9385 | P-MPJPE:  51.2828 | N-MPJPE:  82.5609Eval posenet on H36M_test |########################        | (409/531) Data: 0.013844s | Batch: 0.065s | Total: 0:00:26 | ETA: 0:00:07 | MPJPE:  84.3457 | P-MPJPE:  50.9669 | N-MPJPE:  81.6185\n",
            "\u001b[KEval posenet on mpi3d_loader |################################| (25/25) Data: 0.044650s | Batch: 0.116s | Total: 0:00:02 | ETA: 0:00:01 | MPJPE:  82.6321 | P-MPJPE:  57.3413 | N-MPJPE:  77.0618\n",
            "\u001b[KTrain pose gan |######                          | (1501/1524) Data: 0.199719s | Batch: 0.449s | Total: 0:02:15 | ETA: 0:05:04 2  Train pose gan |#                               | (1290/1524) Data: 0.602059s | Batch: 0.864s | Total: 0:01:17 | ETA: 0:06:47 Train pose gan |####                            | (1416/1524) Data: 0.266617s | Batch: 0.517s | Total: 0:01:51 | ETA: 0:06:04 Train pose gan |####                            | (1438/1524) Data: 0.244861s | Batch: 0.496s | Total: 0:01:58 | ETA: 0:06:26 Train pose gan |#####                           | (1450/1524) Data: 0.234761s | Batch: 0.487s | Total: 0:02:01 | ETA: 0:06:42 Train pose gan |######                          | (1495/1524) Data: 0.203195s | Batch: 0.453s | Total: 0:02:13 | ETA: 0:05:32 \n",
            "\n",
            "prepare buffer loader for train on fake pose\n",
            "(287682, 27, 16, 3)\n",
            "Generating 287682 poses...\n",
            "\u001b[KTrain posenet |################################| (281/281) Data: 0.004061s | Batch: 0.029s | Total: 0:00:08 | ETA: 0:00:01 | Loss:  0.0020\n",
            "\u001b[KEval posenet on H36M_test |################################| (531/531) Data: 0.015544s | Batch: 0.058s | Total: 0:00:30 | ETA: 0:00:01 | MPJPE:  85.6905 | P-MPJPE:  51.5257 | N-MPJPE:  82.4641Eval posenet on H36M_test |##############                  | (234/531) Data: 0.016842s | Batch: 0.062s | Total: 0:00:14 | ETA: 0:00:18 | MPJPE:  85.2732 | P-MPJPE:  52.7801 | N-MPJPE:  83.0548Eval posenet on H36M_test |#######################         | (387/531) Data: 0.015984s | Batch: 0.059s | Total: 0:00:22 | ETA: 0:00:09 | MPJPE:  85.8762 | P-MPJPE:  52.0142 | N-MPJPE:  83.2083Eval posenet on H36M_test |##############################  | (503/531) Data: 0.015612s | Batch: 0.059s | Total: 0:00:29 | ETA: 0:00:02 | MPJPE:  85.7110 | P-MPJPE:  51.5364 | N-MPJPE:  82.5262\n",
            "\u001b[KEval posenet on mpi3d_loader |################################| (25/25) Data: 0.042740s | Batch: 0.115s | Total: 0:00:02 | ETA: 0:00:01 | MPJPE:  82.6339 | P-MPJPE:  57.0581 | N-MPJPE:  77.0369\n",
            "\u001b[KTrain posenet |################################| (1524/1524) Data: 0.007272s | Batch: 0.036s | Total: 0:00:54 | ETA: 0:00:01 | Loss:  0.0004ain posenet |#                               | (95/1524) Data: 0.020674s | Batch: 0.049s | Total: 0:00:04 | ETA: 0:00:51 | Loss:  0.0010\n",
            "\u001b[KEval posenet on H36M_test |############################### | (530/531) Data: 0.016778s | Batch: 0.060s | Total: 0:00:32 | ETA: 0:00:01 | MPJPE:  41.1614 | P-MPJPE:  29.8104 | N-MPJPE:  37.350330.1370Eval posenet on H36M_test |#                               | (20/531) Data: 0.061416s | Batch: 0.098s | Total: 0:00:01 | ETA: 0:00:30 | MPJPE:  44.2685 | P-MPJPE:  32.0634 | N-MPJPE:  40.7824Eval posenet on H36M_test |########                        | (137/531) Data: 0.022990s | Batch: 0.069s | Total: 0:00:09 | ETA: 0:00:26 | MPJPE:  41.0760 | P-MPJPE:  30.9354 | N-MPJPE:  38.6561Eval posenet on H36M_test |###################             | (318/531) Data: 0.018718s | Batch: 0.063s | Total: 0:00:20 | ETA: 0:00:13 | MPJPE:  41.1927 | P-MPJPE:  31.3373 | N-MPJPE:  39.0357Eval posenet on H36M_test |################################| (531/531) Data: 0.016828s | Batch: 0.060s | Total: 0:00:32 | ETA: 0:00:01 | MPJPE:  41.1674 | P-MPJPE:  29.8117 | N-MPJPE:  37.3491\n",
            "\u001b[KEval posenet on mpi3d_loader |################################| (25/25) Data: 0.039071s | Batch: 0.115s | Total: 0:00:02 | ETA: 0:00:01 | MPJPE:  91.8792 | P-MPJPE:  64.0267 | N-MPJPE:  86.3735\n",
            "\n",
            "Epoch: 6 | LR: 0.00008824\n",
            "\u001b[KTrain pose gan |######                          | (301/1524) Data: 0.039422s | Batch: 0.293s | Total: 0:01:28 | ETA: 0:05:32 rain pose gan |#                               | (57/1524) Data: 0.087602s | Batch: 0.343s | Total: 0:00:19 | ETA: 0:06:58 Train pose gan |##                              | (139/1524) Data: 0.052252s | Batch: 0.305s | Total: 0:00:42 | ETA: 0:06:00 \n",
            "\n",
            "prepare buffer loader for train on fake pose\n",
            "(265206, 27, 16, 3)\n",
            "Generating 265206 poses...\n",
            "\u001b[KTrain posenet |################################| (259/259) Data: 0.005695s | Batch: 0.031s | Total: 0:00:08 | ETA: 0:00:01 | Loss:  0.0026rain posenet |#########                       | (80/259) Data: 0.014642s | Batch: 0.041s | Total: 0:00:03 | ETA: 0:00:06 | Loss:  0.0035\n",
            "\u001b[KEval posenet on H36M_test |################################| (531/531) Data: 0.022401s | Batch: 0.102s | Total: 0:00:53 | ETA: 0:00:01 | MPJPE:  76.8267 | P-MPJPE:  48.1047 | N-MPJPE:  73.0839Eval posenet on H36M_test |#########                       | (150/531) Data: 0.028758s | Batch: 0.113s | Total: 0:00:16 | ETA: 0:00:46 | MPJPE:  75.5601 | P-MPJPE:  47.8855 | N-MPJPE:  72.9748Eval posenet on H36M_test |################                | (275/531) Data: 0.024489s | Batch: 0.108s | Total: 0:00:29 | ETA: 0:00:25 | MPJPE:  75.1808 | P-MPJPE:  48.4400 | N-MPJPE:  72.6408Eval posenet on H36M_test |########################        | (411/531) Data: 0.022206s | Batch: 0.103s | Total: 0:00:42 | ETA: 0:00:14 | MPJPE:  76.1845 | P-MPJPE:  48.2302 | N-MPJPE:  72.9541\n",
            "\u001b[KEval posenet on mpi3d_loader |################################| (25/25) Data: 0.056444s | Batch: 0.189s | Total: 0:00:04 | ETA: 0:00:01 | MPJPE:  81.6056 | P-MPJPE:  58.4229 | N-MPJPE:  76.5746\n",
            "\u001b[KTrain pose gan |######                          | (601/1524) Data: 0.085609s | Batch: 0.239s | Total: 0:01:11 | ETA: 0:02:34 0 ^C\n"
          ]
        }
      ],
      "source": [
        "!python3 run_adaptpose.py --note poseaug --posenet_name 'videopose' --lr_p 1e-4 --checkpoint './checkpoint/adaptpose' --keypoints gt --keypoints_target gt --dataset_target '3dhp'  --pretrain_path './checkpoint/pretrain_baseline/videopose/gt/3dhp/ckpt_best.pth.tar'  --pad 13 "
      ]
    },
    {
      "attachments": {},
      "cell_type": "markdown",
      "metadata": {
        "id": "RAGIz3qbJRqb"
      },
      "source": [
        "## 4. Cross-dataset Training of Pretrained Model on 3DPW dataset"
      ]
    },
    {
      "cell_type": "code",
      "execution_count": null,
      "metadata": {
        "id": "kMK7xXrUJv_I"
      },
      "outputs": [],
      "source": [
        "!python3 run_adaptpose.py --note poseaug --posenet_name 'videopose' --lr_p 1e-4 --checkpoint './checkpoint/adaptpose' --keypoints gt --keypoints_target gt --dataset_target '3dpw'  --pretrain_path './checkpoint/pretrain_baseline/videopose/gt/3dhp/ckpt_best.pth.tar'  --pad 13 "
      ]
    }
  ],
  "metadata": {
    "accelerator": "GPU",
    "colab": {
      "authorship_tag": "ABX9TyOlyqap6yX3jY+F0YChyyZZ",
      "collapsed_sections": [],
      "include_colab_link": true,
      "machine_shape": "hm",
      "name": "AdaptPose.ipynb",
      "provenance": []
    },
    "kernelspec": {
      "display_name": "ap",
      "language": "python",
      "name": "python3"
    },
    "language_info": {
      "codemirror_mode": {
        "name": "ipython",
        "version": 3
      },
      "file_extension": ".py",
      "mimetype": "text/x-python",
      "name": "python",
      "nbconvert_exporter": "python",
      "pygments_lexer": "ipython3",
      "version": "3.6.9"
    },
    "vscode": {
      "interpreter": {
        "hash": "b587e32664cc3c61e772aadf20bd8c3a9acfc6bc0e8d288ed704a2bf816be388"
      }
    }
  },
  "nbformat": 4,
  "nbformat_minor": 0
}
