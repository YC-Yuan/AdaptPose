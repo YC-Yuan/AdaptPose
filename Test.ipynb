{
 "cells": [
  {
   "cell_type": "code",
   "execution_count": null,
   "metadata": {},
   "outputs": [],
   "source": [
    "import torch\n",
    "\n",
    "# 各部位的点\n",
    "# hb:[0,3,6,7,8,9,12]\n",
    "# rl:[0,3,4,5,6]\n",
    "# ll:[0,1,2,3,6]\n",
    "# lh:[7,9,10,11]\n",
    "# rh:[7,12,13,14]\n",
    "x = [0.0, 26.572193345670527, 94.63634589018879, 126.42089040290892, 26.589024107241325, 100.21257116017856, 133.42424869711368, 34.71791272997003,\n",
    "     63.36697568392949, 99.34806581349444, 62.55397898136032, 89.34865683645273, 119.64919516674291, 64.76172065982712, 86.63553928432384, 117.37898708522131]\n",
    "\n",
    "parts_info = {\n",
    "    'hb': [0, 3, 6, 7, 8, 9, 12],\n",
    "    'rl': [0, 3, 4, 5, 6],\n",
    "    'll': [0, 1, 2, 3, 6],\n",
    "    'lh': [7, 9, 10, 11],\n",
    "    'rh': [7, 12, 13, 14],\n",
    "}\n",
    "\n",
    "print('16点分别mpjpe:')\n",
    "print(x)\n",
    "print(parts_info)\n",
    "\n",
    "for key in parts_info:\n",
    "    indexes = parts_info[key]\n",
    "    res = []\n",
    "    print(key)\n",
    "    for index in indexes:\n",
    "        res.append(x[index])\n",
    "    print(res)\n",
    "    res = torch.Tensor(res)\n",
    "    res = torch.mean(res).item()\n",
    "    print(res)\n"
   ]
  },
  {
   "attachments": {},
   "cell_type": "markdown",
   "metadata": {},
   "source": [
    "# 加载H36M数据\n"
   ]
  },
  {
   "cell_type": "code",
   "execution_count": 1,
   "metadata": {},
   "outputs": [],
   "source": [
    "# 加载3D数据集\n",
    "import os.path as path\n",
    "from common.h36m_dataset import Human36mDataset\n",
    "from utils.data_utils import read_3d_data\n",
    "dataset_path=path.join('data','data_3d_'+'h36m'+'.npz')\n",
    "dataset=Human36mDataset(dataset_path,True)\n",
    "dataset=read_3d_data(dataset)"
   ]
  },
  {
   "cell_type": "code",
   "execution_count": 2,
   "metadata": {},
   "outputs": [],
   "source": [
    "from utils.data_utils import create_2d_data\n",
    "\n",
    "# 加载2D数据集\n",
    "keypoints_path = path.join(\n",
    "        'data', 'data_2d_' + 'h36m' + '_' + 'gt' + '.npz')\n",
    "keypoints=create_2d_data(keypoints_path,dataset,tag='3dhp')"
   ]
  },
  {
   "cell_type": "code",
   "execution_count": 3,
   "metadata": {},
   "outputs": [],
   "source": [
    "from utils.data_utils import fetch\n",
    "import numpy as np\n",
    "action_filter = None\n",
    "stride = 1\n",
    "subjects_train = ['S1', 'S5', 'S6', 'S7', 'S8']\n",
    "subjects_test = ['S9', 'S11']\n",
    "\n",
    "# train:600个数据的四种字段\n",
    "poses_train, poses_train_2d, actions_train, cams_train = fetch(subjects_train, dataset, keypoints, action_filter,\n",
    "                                                               stride)\n",
    "# valid:236个数据的四种字段\n",
    "poses_valid, poses_valid_2d, actions_valid, cams_valid = fetch(subjects_test, dataset, keypoints, action_filter,\n",
    "                                                               stride)\n",
    "poses_train, poses_train_2d, cams_train = np.concatenate(\n",
    "        poses_train), np.concatenate(poses_train_2d), np.concatenate(cams_train)\n",
    "poses_valid, poses_valid_2d, cams_valid = np.concatenate(\n",
    "    poses_valid), np.concatenate(poses_valid_2d), np.concatenate(cams_valid)"
   ]
  },
  {
   "cell_type": "code",
   "execution_count": 4,
   "metadata": {},
   "outputs": [],
   "source": [
    "from torch.utils.data import DataLoader\n",
    "from common.data_loader import PoseDataSet\n",
    "from functools import reduce\n",
    "\n",
    "# prepare train loader for GT 2D - 3D, which will update by using projection.\n",
    "pad = 13\n",
    "batch_size = 1024\n",
    "num_workers = 2\n",
    "train_gt2d3d_loader = DataLoader(PoseDataSet(poses_train, poses_train_2d, actions_train, cams_train, pad),\n",
    "                                 batch_size=batch_size,\n",
    "                                 shuffle=True, num_workers=num_workers, pin_memory=True)\n",
    "\n",
    "# GT 2D-3D的验证集副本\n",
    "valid_loader = DataLoader(PoseDataSet(poses_valid, poses_valid_2d, actions_valid, cams_valid, pad),\n",
    "                          batch_size=batch_size,\n",
    "                          shuffle=False, num_workers=num_workers, pin_memory=True)\n",
    "# 至此准备完事儿，可以拿来用"
   ]
  },
  {
   "attachments": {},
   "cell_type": "markdown",
   "metadata": {},
   "source": [
    "# 加载Target数据3dhp"
   ]
  },
  {
   "cell_type": "code",
   "execution_count": 5,
   "metadata": {},
   "outputs": [
    {
     "name": "stdout",
     "output_type": "stream",
     "text": [
      "Generating 1666994 poses...\n",
      "Generating 1559752 poses...\n"
     ]
    }
   ],
   "source": [
    "from utils.data_utils import create_2d_data_target,fetch_target,fetch_3dhp_train\n",
    "from common.data_loader import PoseTarget\n",
    "\n",
    "keypoints_target = create_2d_data_target(path.join(\n",
    "    'data', 'data_'+'3dhp' + '_' + 'gt' + '_train.npz'), dataset)\n",
    "subjects_target = ['S1', 'S2', 'S3', 'S4', 'S5', 'S6', 'S7']\n",
    "poses_target_2d = fetch_target(subjects_target, keypoints_target)\n",
    "poses_target_2d = np.concatenate(poses_target_2d)\n",
    "# poses_target_3d = fetch_3dhp_train(\n",
    "#     path.join('data', 'data_'+'3dhp' + '_gt_train_3d.npz'))\n",
    "target_2d_loader = DataLoader(PoseTarget(poses_target_2d),\n",
    "                                  batch_size=batch_size,\n",
    "                                  shuffle=True, num_workers=num_workers, pin_memory=True)\n",
    "\n",
    "target_3d_loader = DataLoader(PoseTarget(poses_train),\n",
    "                            batch_size=batch_size,\n",
    "                            shuffle=True, num_workers=num_workers, pin_memory=True)\n",
    "\n",
    "# just for visualization of camera distribution\n",
    "# target_3d_loader2 = DataLoader(PoseTarget(poses_target_3d),\n",
    "#                             batch_size=batch_size,\n",
    "#                             shuffle=True, num_workers=num_workers, pin_memory=True)\n"
   ]
  },
  {
   "attachments": {},
   "cell_type": "markdown",
   "metadata": {},
   "source": [
    "# 使用数据"
   ]
  },
  {
   "cell_type": "code",
   "execution_count": 6,
   "metadata": {},
   "outputs": [
    {
     "name": "stdout",
     "output_type": "stream",
     "text": [
      "pad: 13\n"
     ]
    }
   ],
   "source": [
    "import torch\n",
    "for i,((inputs_3d,_,_,cam_param),target_d2d, target_d3d) in enumerate(zip(train_gt2d3d_loader,target_2d_loader,target_3d_loader)):\n",
    "    pad=(inputs_3d.shape[2]-1)//2\n",
    "    print(\"pad: %d\"%pad)\n",
    "    # 所有输入值跟0判断，求和相当于数有几个0\n",
    "    rows=torch.sum(inputs_3d==0,dim=(-1,-2,-3,-4))<(2*pad+1)*16*2\n",
    "    inputs_3d=inputs_3d[rows] # 原分布数据\n",
    "    cam_param=cam_param[rows] # 相机角度\n",
    "    \n",
    "    \n",
    "    \n",
    "    break"
   ]
  },
  {
   "cell_type": "code",
   "execution_count": null,
   "metadata": {},
   "outputs": [],
   "source": [
    "\n"
   ]
  }
 ],
 "metadata": {
  "kernelspec": {
   "display_name": "ap",
   "language": "python",
   "name": "python3"
  },
  "language_info": {
   "codemirror_mode": {
    "name": "ipython",
    "version": 3
   },
   "file_extension": ".py",
   "mimetype": "text/x-python",
   "name": "python",
   "nbconvert_exporter": "python",
   "pygments_lexer": "ipython3",
   "version": "3.6.9"
  },
  "orig_nbformat": 4,
  "vscode": {
   "interpreter": {
    "hash": "b587e32664cc3c61e772aadf20bd8c3a9acfc6bc0e8d288ed704a2bf816be388"
   }
  }
 },
 "nbformat": 4,
 "nbformat_minor": 2
}
